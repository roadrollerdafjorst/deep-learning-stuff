{
 "cells": [
  {
   "cell_type": "code",
   "execution_count": 94,
   "id": "4c1d02de",
   "metadata": {},
   "outputs": [],
   "source": [
    "import numpy as np\n",
    "import pandas as pd\n",
    "import matplotlib.pyplot as plt\n",
    "import os\n",
    "import cv2"
   ]
  },
  {
   "cell_type": "code",
   "execution_count": 103,
   "id": "4988c201",
   "metadata": {},
   "outputs": [],
   "source": [
    "def img_to_df(path):\n",
    "    data_arr = []\n",
    "    label = []\n",
    "    for category in os.listdir(path):\n",
    "        catdir = os.path.join(path, category)\n",
    "        for img in os.listdir(catdir):\n",
    "            imgdir = os.path.join(catdir, img)\n",
    "            img_arr = cv2.imread(imgdir, cv2.IMREAD_GRAYSCALE) # 28 x 28\n",
    "            img_flat = np.ravel(img_arr)\n",
    "            data_arr.append(img_flat)\n",
    "            label.append(int(category))\n",
    "    df = pd.DataFrame(data_arr)\n",
    "    \n",
    "    df['label'] = label\n",
    "    return df"
   ]
  },
  {
   "cell_type": "code",
   "execution_count": 104,
   "id": "8de35ad2",
   "metadata": {},
   "outputs": [],
   "source": [
    "train_path = \"data/train/\"\n",
    "val_path = \"data/val/\"\n",
    "test_path = \"data/test/\"\n",
    "\n",
    "train = img_to_df(train_path).sample(frac=1).reset_index(drop=True)\n",
    "val = img_to_df(val_path).sample(frac=1).reset_index(drop=True)\n",
    "test = img_to_df(test_path).sample(frac=1).reset_index(drop=True)"
   ]
  },
  {
   "cell_type": "code",
   "execution_count": 105,
   "id": "a9f40bd2",
   "metadata": {},
   "outputs": [],
   "source": [
    "train.to_csv('train.csv')\n",
    "val.to_csv('val.csv')\n",
    "test.to_csv('test.csv')"
   ]
  },
  {
   "cell_type": "code",
   "execution_count": 106,
   "id": "466812fd",
   "metadata": {},
   "outputs": [
    {
     "data": {
      "image/png": "[encoded data removed]",
      "text/plain": [
       "<Figure size 432x288 with 1 Axes>"
      ]
     },
     "metadata": {
      "needs_background": "light"
     },
     "output_type": "display_data"
    }
   ],
   "source": [
    "plt.imshow(np.array(test.iloc[19, :-1], dtype='uint8').reshape((28, 28)))\n",
    "plt.title(f'label: {test.label[19]}')\n",
    "plt.show()"
   ]
  },
  {
   "cell_type": "code",
   "execution_count": 107,
   "id": "566811ce",
   "metadata": {},
   "outputs": [],
   "source": [
    "from sklearn.preprocessing import LabelEncoder\n",
    "le = LabelEncoder()\n",
    "le = le.fit(train.label)\n",
    "\n",
    "train.label = le.transform(train.label)\n",
    "val.label = le.transform(val.label)\n",
    "test.label = le.transform(test.label)"
   ]
  },
  {
   "cell_type": "code",
   "execution_count": 108,
   "id": "0fb9f19d",
   "metadata": {},
   "outputs": [
    {
     "data": {
      "image/png": "[encoded data removed]",
      "text/plain": [
       "<Figure size 432x288 with 1 Axes>"
      ]
     },
     "metadata": {
      "needs_background": "light"
     },
     "output_type": "display_data"
    }
   ],
   "source": [
    "sample_img = np.array(test.iloc[19, :-1], dtype='uint8').reshape((28, 28))\n",
    "plt.imshow(sample_img)\n",
    "plt.title(f'label: {test.label[19]}')\n",
    "plt.show()"
   ]
  },
  {
   "cell_type": "code",
   "execution_count": null,
   "id": "4baa6045",
   "metadata": {},
   "outputs": [],
   "source": []
  }
 ],
 "metadata": {
  "kernelspec": {
   "display_name": "Python 3",
   "language": "python",
   "name": "python3"
  },
  "language_info": {
   "codemirror_mode": {
    "name": "ipython",
    "version": 3
   },
   "file_extension": ".py",
   "mimetype": "text/x-python",
   "name": "python",
   "nbconvert_exporter": "python",
   "pygments_lexer": "ipython3",
   "version": "3.10.1"
  }
 },
 "nbformat": 4,
 "nbformat_minor": 5
}
