{
 "cells": [
  {
   "cell_type": "code",
   "execution_count": 1,
   "id": "f77f7d08",
   "metadata": {},
   "outputs": [],
   "source": [
    "import numpy as np\n",
    "import pandas as pd\n",
    "import matplotlib.pyplot as plt\n",
    "import cv2\n",
    "import tensorflow as tf\n",
    "from tensorflow import keras\n",
    "from keras import layers, Sequential\n",
    "from keras.models import Model\n",
    "from keras.layers import Input, Dense\n",
    "from keras.optimizers import Adam, SGD, Adagrad, RMSprop\n",
    "from keras.callbacks import EarlyStopping, ModelCheckpoint, TensorBoard\n",
    "from keras import initializers\n",
    "import os\n",
    "from tensorflow.keras.preprocessing import image_dataset_from_directory"
   ]
  },
  {
   "cell_type": "code",
   "execution_count": 2,
   "id": "bb2119e2",
   "metadata": {
    "scrolled": true
   },
   "outputs": [
    {
     "name": "stdout",
     "output_type": "stream",
     "text": [
      "Found 11385 files belonging to 5 classes.\n",
      "Found 3795 files belonging to 5 classes.\n",
      "Found 3795 files belonging to 5 classes.\n"
     ]
    }
   ],
   "source": [
    "train = image_dataset_from_directory(\n",
    "    'data/train/',\n",
    "    labels='inferred',\n",
    "    label_mode='int',\n",
    "    batch_size=1,\n",
    "    image_size=(28, 28),\n",
    "    shuffle=False,\n",
    "    seed=42,\n",
    "    color_mode='grayscale',\n",
    "    validation_split=0.0\n",
    ")\n",
    "\n",
    "val = image_dataset_from_directory(\n",
    "    'data/val/',\n",
    "    labels='inferred',\n",
    "    label_mode='int',\n",
    "    batch_size=1,\n",
    "    image_size=(28, 28),\n",
    "    shuffle=True,\n",
    "    seed=42,\n",
    "    color_mode='grayscale',\n",
    "    validation_split=0.0\n",
    ")\n",
    "\n",
    "test = image_dataset_from_directory(\n",
    "    'data/test/',\n",
    "    labels='inferred',\n",
    "    label_mode='int',\n",
    "    class_names=['0', '1', '5', '7', '8'],\n",
    "    batch_size=1,\n",
    "    image_size=(28, 28),\n",
    "    shuffle=False,\n",
    "    seed=42,\n",
    "    color_mode='grayscale',\n",
    "    validation_split=0.0\n",
    ")"
   ]
  },
  {
   "cell_type": "code",
   "execution_count": 56,
   "id": "b2933b6d",
   "metadata": {},
   "outputs": [],
   "source": [
    "def normalize(image,label):\n",
    "    image = tf.cast(image/255. ,tf.float32)\n",
    "    return image, label\n",
    "\n",
    "train = train.map(normalize)\n",
    "val = val.map(normalize)\n",
    "test = test.map(normalize)"
   ]
  },
  {
   "cell_type": "code",
   "execution_count": 17,
   "id": "266d8941",
   "metadata": {},
   "outputs": [],
   "source": [
    "model_dir = 'models/'\n",
    "\n",
    "# Get training and validation accuracies for every trained model\n",
    "\n",
    "accuracies = dict()\n",
    "\n",
    "for model in os.listdir(model_dir):\n",
    "    model_path = os.path.join(model_dir, model)\n",
    "    trained_model = tf.keras.models.load_model(model_path) # load model\n",
    "    train_acc = trained_model.evaluate(train, verbose=0)[1]\n",
    "    val_acc = trained_model.evaluate(val, verbose=0)[1]\n",
    "    accuracies[model[:-3]] = [train_acc, val_acc]"
   ]
  },
  {
   "cell_type": "code",
   "execution_count": 20,
   "id": "06ecd776",
   "metadata": {},
   "outputs": [
    {
     "name": "stdout",
     "output_type": "stream",
     "text": [
      "dictionary saved successfully to file\n"
     ]
    }
   ],
   "source": [
    "import pickle\n",
    "with open('accuracies.pkl', 'wb') as fp:\n",
    "    pickle.dump(accuracies, fp)\n",
    "    print('dictionary saved successfully to file')"
   ]
  },
  {
   "cell_type": "code",
   "execution_count": 1,
   "id": "3c39e657",
   "metadata": {
    "collapsed": true
   },
   "outputs": [
    {
     "name": "stdout",
     "output_type": "stream",
     "text": [
      "{'adagrad-16-16-16': [0.20000000298023224, 0.20000000298023224], 'adagrad-16-32-64': [0.20000000298023224, 0.20000000298023224], 'adagrad-16-8-4': [0.20000000298023224, 0.20000000298023224], 'adagrad-32-16-4': [0.20000000298023224, 0.20000000298023224], 'adagrad-32-32-32': [0.20000000298023224, 0.20000000298023224], 'adagrad-4-16-32': [0.20000000298023224, 0.20000000298023224], 'adagrad-4-4-4': [0.20000000298023224, 0.20000000298023224], 'adagrad-4-8-16': [0.20000000298023224, 0.20000000298023224], 'adagrad-64-32-16': [0.20000000298023224, 0.20000000298023224], 'adagrad-8-8-8': [0.20000000298023224, 0.20000000298023224], 'adam-16-16-16': [0.9887571334838867, 0.9694334864616394], 'adam-16-32-64': [0.991919219493866, 0.9723320007324219], 'adam-16-8-4': [0.9871761202812195, 0.9670619368553162], 'adam-32-16-4': [0.9934123754501343, 0.9720684885978699], 'adam-32-32-32': [0.9896354675292969, 0.9747035503387451], 'adam-4-16-32': [0.9798858165740967, 0.9581027626991272], 'adam-4-4-4': [0.972771167755127, 0.948353111743927], 'adam-4-8-16': [0.9698726534843445, 0.948089599609375], 'adam-64-32-16': [0.9956960678100586, 0.9815546870231628], 'adam-8-8-8': [0.9806763529777527, 0.9602108001708984], 'batch-16-16-16': [0.20000000298023224, 0.20000000298023224], 'batch-16-32-64': [0.23091787099838257, 0.2287220060825348], 'batch-16-8-4': [0.20000000298023224, 0.20000000298023224], 'batch-32-16-4': [0.20000000298023224, 0.20000000298023224], 'batch-32-32-32': [0.20000000298023224, 0.20000000298023224], 'batch-4-16-32': [0.20000000298023224, 0.20000000298023224], 'batch-4-4-4': [0.20000000298023224, 0.20000000298023224], 'batch-4-8-16': [0.20000000298023224, 0.20000000298023224], 'batch-64-32-16': [0.20000000298023224, 0.20000000298023224], 'batch-8-8-8': [0.20000000298023224, 0.20000000298023224], 'momentum-16-16-16': [0.9952569007873535, 0.9699604511260986], 'momentum-16-32-64': [0.9928853511810303, 0.9673254489898682], 'momentum-16-8-4': [0.20000000298023224, 0.20000000298023224], 'momentum-32-16-4': [0.9985946416854858, 0.9794466495513916], 'momentum-32-32-32': [0.9946420788764954, 0.9741765260696411], 'momentum-32-64-96': [0.9955204129219055, 0.9718050360679626], 'momentum-4-16-32': [0.9429951906204224, 0.9180500507354736], 'momentum-4-4-4': [0.20000000298023224, 0.20000000298023224], 'momentum-4-8-16': [0.9612648487091064, 0.939130425453186], 'momentum-64-32-16': [0.999209463596344, 0.9778656363487244], 'momentum-8-8-8': [0.9870004653930664, 0.9623188376426697], 'nag-16-16-16': [0.9949933886528015, 0.9702239632606506], 'nag-16-32-64': [0.9921826720237732, 0.9675889611244202], 'nag-16-8-4': [0.20000000298023224, 0.20000000298023224], 'nag-32-16-4': [0.9985946416854858, 0.9776021242141724], 'nag-32-32-32': [0.9934123754501343, 0.9731225371360779], 'nag-32-64-96': [0.9964866042137146, 0.9733860492706299], 'nag-4-16-32': [0.20000000298023224, 0.20000000298023224], 'nag-4-4-4': [0.20000000298023224, 0.20000000298023224], 'nag-4-8-16': [0.20000000298023224, 0.20000000298023224], 'nag-64-32-16': [0.9979798197746277, 0.9781290888786316], 'nag-8-8-8': [0.9810276627540588, 0.9583662748336792], 'rmsprop-16-16-16': [0.9848045706748962, 0.9689064621925354], 'rmsprop-16-32-64': [0.9838383793830872, 0.9673254489898682], 'rmsprop-16-8-4': [0.9841897487640381, 0.9654809236526489], 'rmsprop-32-16-4': [0.9890206456184387, 0.9696969985961914], 'rmsprop-32-32-32': [0.9860342741012573, 0.9712780117988586], 'rmsprop-4-16-32': [0.9610013365745544, 0.940184473991394], 'rmsprop-4-4-4': [0.9491435885429382, 0.9267457127571106], 'rmsprop-4-8-16': [0.9638998508453369, 0.948353111743927], 'rmsprop-64-32-16': [0.9896354675292969, 0.9794466495513916], 'rmsprop-8-8-8': [0.9682916402816772, 0.956258237361908], 'sgd-16-16-16': [0.20000000298023224, 0.20000000298023224], 'sgd-16-32-64': [0.20000000298023224, 0.20000000298023224], 'sgd-16-8-4': [0.20000000298023224, 0.20000000298023224], 'sgd-32-16-4': [0.20000000298023224, 0.20000000298023224], 'sgd-32-32-32': [0.20000000298023224, 0.20000000298023224], 'sgd-32-64-96': [0.20000000298023224, 0.20000000298023224], 'sgd-4-16-32': [0.20000000298023224, 0.20000000298023224], 'sgd-4-4-4': [0.20000000298023224, 0.20000000298023224], 'sgd-4-8-16': [0.20000000298023224, 0.20000000298023224], 'sgd-64-32-16': [0.20000000298023224, 0.20000000298023224], 'sgd-8-8-8': [0.20000000298023224, 0.20000000298023224]}\n"
     ]
    }
   ],
   "source": [
    "import pickle\n",
    "with open('accuracies.pkl', 'rb') as fp:\n",
    "    read_file = pickle.load(fp)"
   ]
  },
  {
   "cell_type": "code",
   "execution_count": 10,
   "id": "e7d474da",
   "metadata": {},
   "outputs": [],
   "source": [
    "acc = []\n",
    "arch = []\n",
    "import numpy as np\n",
    "for i in read_file.keys():\n",
    "    acc.append(read_file[i])\n",
    "    arch.append(i)"
   ]
  },
  {
   "cell_type": "code",
   "execution_count": 14,
   "id": "9cae87a6",
   "metadata": {},
   "outputs": [],
   "source": [
    "import pandas as pd\n",
    "a = pd.DataFrame()\n",
    "a['arch'] = arch\n",
    "a['tr'] = np.array(acc)[:, 0]\n",
    "a['val'] = np.array(acc)[:, 1]\n",
    "a.to_csv('acc.csv')"
   ]
  },
  {
   "cell_type": "code",
   "execution_count": 3,
   "id": "500739b2",
   "metadata": {},
   "outputs": [],
   "source": [
    "best_optim = 'adam'\n",
    "best_arch = '64-32-16'\n",
    "best_model = tf.keras.models.load_model('models/' + best_optim + '-' + best_arch + '.tf')"
   ]
  },
  {
   "cell_type": "code",
   "execution_count": 49,
   "id": "e997ed7c",
   "metadata": {},
   "outputs": [
    {
     "name": "stdout",
     "output_type": "stream",
     "text": [
      "3795/3795 [==============================] - 3s 767us/step - loss: 0.0818 - accuracy: 0.9810\n"
     ]
    }
   ],
   "source": [
    "model_acc_train = best_model.evaluate(train, batch_size=1, return_dict=True)\n",
    "model_acc_test = best_model.evaluate(test, batch_size=1, return_dict=True)"
   ]
  },
  {
   "cell_type": "code",
   "execution_count": 57,
   "id": "6110e4e6",
   "metadata": {},
   "outputs": [
    {
     "name": "stdout",
     "output_type": "stream",
     "text": [
      "3795/3795 [==============================] - 3s 785us/step\n",
      "11385/11385 [==============================] - 8s 713us/step\n"
     ]
    }
   ],
   "source": [
    "test_pred = best_model.predict(test)\n",
    "train_pred = best_model.predict(train)\n",
    "\n",
    "pred_class_test = np.argmax(test_pred, axis=1)\n",
    "pred_class_train = np.argmax(train_pred, axis=1)\n",
    "\n",
    "y_test = np.concatenate([y for x, y in test], axis=0)\n",
    "y_train = np.concatenate([y for x, y in train], axis=0)"
   ]
  },
  {
   "cell_type": "code",
   "execution_count": 60,
   "id": "3d51f17e",
   "metadata": {},
   "outputs": [
    {
     "name": "stdout",
     "output_type": "stream",
     "text": [
      "accuracy score (test): 0.9810276679841897\n",
      "accuracy score (train): 0.9956960913482653\n"
     ]
    }
   ],
   "source": [
    "from sklearn.metrics import accuracy_score, confusion_matrix\n",
    "test_score = accuracy_score(y_test, pred_class_test)\n",
    "train_score = accuracy_score(y_train, pred_class_train)\n",
    "\n",
    "print('accuracy score (test):', test_score)\n",
    "print('accuracy score (train):', train_score)"
   ]
  },
  {
   "cell_type": "code",
   "execution_count": 63,
   "id": "8adb2739",
   "metadata": {},
   "outputs": [
    {
     "name": "stdout",
     "output_type": "stream",
     "text": [
      "confusion matrix (test):\n"
     ]
    },
    {
     "data": {
      "image/png": "[encoded data removed]",
      "text/plain": [
       "<Figure size 504x504 with 1 Axes>"
      ]
     },
     "metadata": {
      "needs_background": "light"
     },
     "output_type": "display_data"
    }
   ],
   "source": [
    "from sklearn.metrics import ConfusionMatrixDisplay\n",
    "print('confusion matrix (test):')\n",
    "fig = plt.figure(figsize=(7, 7))\n",
    "#fig.suptitle('Confusion Matrix (Test Set)', y=0.04, fontsize=15)\n",
    "ax = fig.add_subplot(111)\n",
    "cm_display = ConfusionMatrixDisplay(confusion_matrix = confusion_matrix(y_test, pred_class_test), display_labels=['0', '1', '5', '7', '8'])\n",
    "cm_display.plot(ax = ax, cmap='Greys', colorbar=False)\n",
    "ax.set_title(f'arch: {best_arch}, acc: {np.round(test_score, 5)}', fontdict = {'fontsize':14}, )\n",
    "plt.show()"
   ]
  },
  {
   "cell_type": "code",
   "execution_count": 62,
   "id": "101f0b3f",
   "metadata": {},
   "outputs": [
    {
     "name": "stdout",
     "output_type": "stream",
     "text": [
      "confusion matrix (train):\n"
     ]
    },
    {
     "data": {
      "image/png": "[encoded data removed]",
      "text/plain": [
       "<Figure size 504x504 with 1 Axes>"
      ]
     },
     "metadata": {
      "needs_background": "light"
     },
     "output_type": "display_data"
    }
   ],
   "source": [
    "from sklearn.metrics import ConfusionMatrixDisplay\n",
    "print('confusion matrix (train):')\n",
    "fig = plt.figure(figsize=(7, 7))\n",
    "#fig.suptitle('Confusion Matrix (Test Set)', y=0.04, fontsize=15)\n",
    "ax = fig.add_subplot(111)\n",
    "cm_display = ConfusionMatrixDisplay(confusion_matrix = confusion_matrix(y_train, pred_class_train), display_labels=['0', '1', '5', '7', '8'])\n",
    "cm_display.plot(ax = ax, cmap='Greys', colorbar=False)\n",
    "ax.set_title(f'arch: {best_arch}, acc: {np.round(train_score, 5)}', fontdict = {'fontsize':14}, )\n",
    "plt.show()"
   ]
  },
  {
   "cell_type": "code",
   "execution_count": 4,
   "id": "04e961dc",
   "metadata": {},
   "outputs": [],
   "source": [
    "best_model.save('best_model.h5')"
   ]
  }
 ],
 "metadata": {
  "kernelspec": {
   "display_name": "Python 3",
   "language": "python",
   "name": "python3"
  },
  "language_info": {
   "codemirror_mode": {
    "name": "ipython",
    "version": 3
   },
   "file_extension": ".py",
   "mimetype": "text/x-python",
   "name": "python",
   "nbconvert_exporter": "python",
   "pygments_lexer": "ipython3",
   "version": "3.10.1"
  }
 },
 "nbformat": 4,
 "nbformat_minor": 5
}
