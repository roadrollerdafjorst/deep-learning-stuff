{
 "cells": [
  {
   "cell_type": "code",
   "execution_count": 8,
   "id": "b6dabe0b",
   "metadata": {},
   "outputs": [],
   "source": [
    "import numpy as np\n",
    "import pandas as pd\n",
    "import matplotlib.pyplot as plt\n",
    "import cv2\n",
    "import tensorflow as tf\n",
    "from tensorflow import keras\n",
    "from keras import layers, Sequential\n",
    "from keras.models import Model\n",
    "from keras.layers import Input, Dense\n",
    "from keras.optimizers import Adam, SGD, Adagrad, RMSprop\n",
    "from keras.callbacks import EarlyStopping, ModelCheckpoint, TensorBoard\n",
    "from keras import initializers\n",
    "import os\n",
    "from tensorflow.keras.preprocessing import image_dataset_from_directory"
   ]
  },
  {
   "cell_type": "code",
   "execution_count": 19,
   "id": "3783ff1f",
   "metadata": {},
   "outputs": [
    {
     "name": "stdout",
     "output_type": "stream",
     "text": [
      "2.11.0\n"
     ]
    }
   ],
   "source": [
    "print(tf.__version__)"
   ]
  },
  {
   "cell_type": "code",
   "execution_count": 9,
   "id": "6268502a",
   "metadata": {},
   "outputs": [
    {
     "name": "stdout",
     "output_type": "stream",
     "text": [
      "Found 11385 files belonging to 5 classes.\n",
      "Found 3795 files belonging to 5 classes.\n",
      "Found 3795 files belonging to 5 classes.\n"
     ]
    }
   ],
   "source": [
    "train = image_dataset_from_directory(\n",
    "    'data/train/',\n",
    "    labels='inferred',\n",
    "    label_mode='int',\n",
    "    batch_size=1,\n",
    "    image_size=(28, 28),\n",
    "    shuffle=True,\n",
    "    seed=42,\n",
    "    color_mode='grayscale',\n",
    "    validation_split=0.0\n",
    ")\n",
    "\n",
    "val = image_dataset_from_directory(\n",
    "    'data/val/',\n",
    "    labels='inferred',\n",
    "    label_mode='int',\n",
    "    batch_size=1,\n",
    "    image_size=(28, 28),\n",
    "    shuffle=True,\n",
    "    seed=42,\n",
    "    color_mode='grayscale',\n",
    "    validation_split=0.0\n",
    ")\n",
    "\n",
    "test = image_dataset_from_directory(\n",
    "    'data/test/',\n",
    "    labels='inferred',\n",
    "    label_mode='int',\n",
    "    batch_size=1,\n",
    "    image_size=(28, 28),\n",
    "    shuffle=True,\n",
    "    seed=42,\n",
    "    color_mode='grayscale',\n",
    "    validation_split=0.0\n",
    ")"
   ]
  },
  {
   "cell_type": "code",
   "execution_count": 10,
   "id": "88f9194d",
   "metadata": {},
   "outputs": [],
   "source": [
    "def normalize(image,label):\n",
    "    image = tf.cast(image/255. ,tf.float32)\n",
    "    return image, label\n",
    "\n",
    "train = train.map(normalize)\n",
    "val = val.map(normalize)\n",
    "test = test.map(normalize)"
   ]
  },
  {
   "cell_type": "code",
   "execution_count": 11,
   "id": "4f00c832",
   "metadata": {},
   "outputs": [],
   "source": [
    "# model architectures - 3 hidden layers\n",
    "num_hidden = 3\n",
    "model_arch = [\n",
    "    [4, 4, 4],\n",
    "    [4, 8, 16],\n",
    "    [16, 8, 4],\n",
    "    [8, 8, 8],\n",
    "    [4, 16, 32],\n",
    "    [32, 16, 4],\n",
    "    [16, 16, 16],\n",
    "    [16, 32, 64],\n",
    "    [64, 32, 16],\n",
    "    [32, 32, 32],\n",
    "    [32, 64, 96],\n",
    "    [96, 64, 32],\n",
    "    [64, 64, 64],\n",
    "    [64, 96, 128],\n",
    "    [128, 96, 64],\n",
    "    [128, 128, 128],\n",
    "]"
   ]
  },
  {
   "cell_type": "code",
   "execution_count": 5,
   "id": "05c2e81c",
   "metadata": {},
   "outputs": [],
   "source": [
    "# optimizers\n",
    "sgd_optimizer = SGD(learning_rate=0.001,name='SGD') #Stochastic Gradient Descent ##\n",
    "batch_optimizer = SGD(learning_rate=0.001,name='batch') #Batch Gradient Descent ##\n",
    "momentum_optimizer = SGD(learning_rate=0.001, momentum=0.9, name='Momentum_SGD') #Momentum Based\n",
    "nag_optimizer = SGD(learning_rate=0.001, momentum=0.9, nesterov=True, name='NAG') #NAG\n",
    "rms_optimizer = RMSprop(learning_rate=0.001, rho=0.99, momentum=0.0, epsilon=1e-8, name=\"RMSProp\") #RMSProp\n",
    "adagrad_optimizer = Adagrad(learning_rate=0.001, epsilon=1e-8, name=\"Adagrad\") #AdaGrad\n",
    "adam_optimizer = Adam(learning_rate=0.001, beta_1=0.9, beta_2=0.999, epsilon=1e-8) #Adam\n",
    "\n",
    "optimizers = [\n",
    "    ['sgd', sgd_optimizer],\n",
    "    ['batch', batch_optimizer], ##\n",
    "    ['momentum', momentum_optimizer],\n",
    "    ['nag', nag_optimizer],\n",
    "    ['rmsprop', rms_optimizer],\n",
    "    ['adagrad', adagrad_optimizer],\n",
    "    ['adam', adam_optimizer]\n",
    "]"
   ]
  },
  {
   "cell_type": "code",
   "execution_count": 6,
   "id": "44053cd9",
   "metadata": {},
   "outputs": [],
   "source": [
    "# kernel initializer\n",
    "initializer = initializers.RandomNormal(mean=0.0, stddev=0.05, seed=42)"
   ]
  },
  {
   "cell_type": "code",
   "execution_count": null,
   "id": "35a41e63",
   "metadata": {
    "collapsed": true
   },
   "outputs": [],
   "source": [
    "k=5 # no. of classes\n",
    "input_shape = (28, 28, 1)\n",
    "\n",
    "model_history = dict()\n",
    "\n",
    "# train different achitectures and optimizers\n",
    "print('Training models with different architectures and optimizers')\n",
    "for layer_dims in [model_arch[1]]:\n",
    "    for optimizer in optimizers:\n",
    "        print(f'{optimizer[0]}-{layer_dims[0]}-{layer_dims[1]}-{layer_dims[2]}...')\n",
    "        # define model\n",
    "        model = Sequential([\n",
    "            keras.Input(shape=(28, 28, 1)),\n",
    "            layers.Flatten(),\n",
    "            layers.Dense(layer_dims[0], activation=\"sigmoid\", name=\"layer1\", \n",
    "                         kernel_initializer=initializer, bias_initializer=initializers.Zeros()),\n",
    "            layers.Dense(layer_dims[1], activation=\"sigmoid\", name=\"layer2\", \n",
    "                         kernel_initializer=initializer, bias_initializer=initializers.Zeros()),\n",
    "            layers.Dense(layer_dims[2], activation=\"sigmoid\", name=\"layer3\", \n",
    "                         kernel_initializer=initializer, bias_initializer=initializers.Zeros()),\n",
    "            layers.Dense(k, activation=\"softmax\", name=\"output\", \n",
    "                         kernel_initializer=initializer, bias_initializer=initializers.Zeros()),\n",
    "        ])\n",
    "        \n",
    "        # compile model\n",
    "        model.compile(optimizer=optimizer[1], loss='sparse_categorical_crossentropy', metrics=['accuracy'])\n",
    "        \n",
    "        # callbacks\n",
    "        my_callbacks = [\n",
    "            EarlyStopping(monitor='val_loss', min_delta=1e-4, patience=3),\n",
    "            TensorBoard(log_dir=f'./logdir/{optimizer[0]}-{layer_dims[0]}-{layer_dims[1]}-{layer_dims[2]}/')\n",
    "        ]\n",
    "        \n",
    "        batch_size=1\n",
    "        if optimizer[0]=='batch':\n",
    "            batch_size = train.cardinality().numpy()\n",
    "        \n",
    "        model_fit = model.fit(train, batch_size=batch_size, epochs=10000, verbose=0, callbacks=my_callbacks, \n",
    "                              validation_split=0.0, validation_data=val, shuffle=True, validation_batch_size=None)\n",
    "        \n",
    "        model_history[f'{optimizer[0]}-{layer_dims[0]}-{layer_dims[1]}-{layer_dims[2]}'] = model_fit.history['accuracy']\n",
    "        \n",
    "        hist_metric = 'accuracy'\n",
    "        print(f'epochs: {len(model_fit.history[hist_metric])}, acc: {model_fit.history[hist_metric][-1]}\\n')\n",
    "        model.save(f'models/{optimizer[0]}-{layer_dims[0]}-{layer_dims[1]}-{layer_dims[2]}.tf')"
   ]
  },
  {
   "cell_type": "code",
   "execution_count": 15,
   "id": "9ee5a50a",
   "metadata": {},
   "outputs": [],
   "source": [
    "import pickle\n",
    "hist = open('history2', 'wb')\n",
    "pickle.dump(model_history, hist)\n",
    "hist.close()"
   ]
  }
 ],
 "metadata": {
  "kernelspec": {
   "display_name": "Python 3",
   "language": "python",
   "name": "python3"
  },
  "language_info": {
   "codemirror_mode": {
    "name": "ipython",
    "version": 3
   },
   "file_extension": ".py",
   "mimetype": "text/x-python",
   "name": "python",
   "nbconvert_exporter": "python",
   "pygments_lexer": "ipython3",
   "version": "3.10.1"
  }
 },
 "nbformat": 4,
 "nbformat_minor": 5
}
