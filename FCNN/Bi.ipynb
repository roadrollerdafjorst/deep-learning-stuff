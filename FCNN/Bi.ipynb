{
 "cells": [
  {
   "cell_type": "code",
   "execution_count": 1,
   "id": "ac8f5d05",
   "metadata": {},
   "outputs": [],
   "source": [
    "import warnings\n",
    "warnings.simplefilter(action='ignore', category=FutureWarning)\n",
    "\n",
    "import pandas as pd\n",
    "import numpy as np\n",
    "from numpy import linalg as LA\n",
    "import matplotlib.pyplot as plt"
   ]
  },
  {
   "cell_type": "code",
   "execution_count": 8,
   "id": "53a9443c",
   "metadata": {},
   "outputs": [],
   "source": [
    "data = pd.read_csv(r\"data\\Regression\\BivariateData\\24.csv\", \n",
    "                   sep=\",\", names=['f1', 'f2', 'f3']).sample(frac=1).reset_index(drop=True) # 10201 \n",
    "data.insert(loc=0, column='1', value=[1 for i in range(len(data))])\n",
    "\n",
    "train = data.iloc[:6120, :] # 6120\n",
    "val = data.iloc[6120:8160, :].reset_index(drop=True) # 2040\n",
    "test = data.iloc[8160:, :].reset_index(drop=True) # 2041"
   ]
  },
  {
   "cell_type": "code",
   "execution_count": 10,
   "id": "ee68e053",
   "metadata": {},
   "outputs": [],
   "source": [
    "class twoL_nn:\n",
    "    \n",
    "    def __init__(self, layer_sizes, learning_rate, num_epochs):\n",
    "        self.input_size = layer_sizes[0]\n",
    "        self.h1 = layer_sizes[1]\n",
    "        self.h2 = layer_sizes[2]\n",
    "        self.k = layer_sizes[-1]\n",
    "        self.params = self.initialize_params()\n",
    "        self.learning_rate = learning_rate\n",
    "        self.num_epochs = num_epochs\n",
    "        \n",
    "    def sigmoid(self, z):\n",
    "        return 1/(1 + np.exp(-z))\n",
    "\n",
    "    def loss(self, y, s):\n",
    "        return np.square(y - s)/2 \n",
    "\n",
    "    def initialize_params(self):\n",
    "        params = dict()\n",
    "        params['W1'] = np.random.randn(self.h1, self.input_size)\n",
    "        params['W2'] = np.random.randn(self.h2, self.h1+1)\n",
    "        params['W3'] = np.random.randn(self.k, self.h2+1)\n",
    "        return params\n",
    "\n",
    "    def forward(self, x):\n",
    "        W1, W2, W3 = self.params['W1'], self.params['W2'], self.params['W3']\n",
    "        cache = dict()\n",
    "        cache['A1'] = np.dot(W1, x)\n",
    "        cache['H1'] = self.sigmoid(cache['A1'])\n",
    "        cache['H1'] = np.append([[1]], cache['H1'], axis=0)\n",
    "        cache['A2'] = np.dot(W2, cache['H1'])\n",
    "        cache['H2'] = self.sigmoid(cache['A2'])\n",
    "        cache['H2'] = np.append([[1]], cache['H2'], axis=0)\n",
    "        cache['A3'] = np.dot(W3, cache['H2'])\n",
    "        cache['H3'] = cache['A3']\n",
    "        return cache['H3'], cache\n",
    "\n",
    "    def backward(self, x, y):\n",
    "        s, cache = self.forward(x)\n",
    "        \n",
    "        dell3 = (y - s) * 1 # k x 1\n",
    "        dW3 = self.learning_rate * np.dot(dell3, cache['H2'].T) # k x j+1\n",
    "        self.params['W3'] = self.params['W3'] + dW3 # k x j+1\n",
    "\n",
    "        dell2 = np.dot(self.params['W3'][:, :-1].T, dell3) * cache['H2'][1:] * (1 - cache['H2'][1:]) # j x 1\n",
    "        dW2 = self.learning_rate * np.dot(dell2, cache['H1'].T) # j x i+1\n",
    "        self.params['W2'] = self.params['W2'] + dW2 # j x i+1\n",
    "        \n",
    "        dell1 = np.dot(self.params['W2'][:, :-1].T, dell2) * cache['H1'][1:] * (1 - cache['H1'][1:]) # i x 1\n",
    "        dW1 = self.learning_rate * np.dot(dell1, x.T) # i x m\n",
    "        self.params['W1'] = self.params['W1'] + dW1 # i x m\n",
    "        \n",
    "        return self.loss(y, s)\n",
    "\n",
    "    def epoch(self, train):\n",
    "        E = []\n",
    "        for i in range(train.shape[0]):\n",
    "#             y = np.zeros((self.k, 1))\n",
    "#             y[train['y'][i]][0] = 1\n",
    "            y = train.iloc[i, -1]\n",
    "            x = np.array(train.iloc[i, :-1]).reshape((self.input_size, 1))\n",
    "            e = self.backward(x, y)\n",
    "            E.append(e)\n",
    "\n",
    "        return np.mean(E)\n",
    "\n",
    "    def fit(self, train):\n",
    "        history = []\n",
    "        for i in range(1, self.num_epochs + 1):\n",
    "            E = self.epoch(train)\n",
    "            history.append(E)\n",
    "        return history\n",
    "    \n",
    "    def predict(self, test):\n",
    "        preds = np.zeros(test.shape[0])\n",
    "        for i in range(test.shape[0]):\n",
    "            pred, _ = self.forward(np.array(test.iloc[i, :-1]).reshape((self.input_size, 1)))\n",
    "            preds[i] = pred\n",
    "        return preds"
   ]
  },
  {
   "cell_type": "code",
   "execution_count": 11,
   "id": "c01b92fc",
   "metadata": {},
   "outputs": [],
   "source": [
    "input_size = 3\n",
    "layer_sizes = [3, 8, 8, 1]\n",
    "learning_rate, num_epochs = 0.1, 20 \n",
    "model = twoL_nn(layer_sizes, learning_rate, num_epochs)\n",
    "\n",
    "history = model.fit(train)"
   ]
  },
  {
   "cell_type": "code",
   "execution_count": 22,
   "id": "d8c7a1a8",
   "metadata": {},
   "outputs": [
    {
     "data": {
      "text/plain": [
       "0.11326311879249697"
      ]
     },
     "execution_count": 22,
     "metadata": {},
     "output_type": "execute_result"
    }
   ],
   "source": [
    "p = model.predict(test)\n",
    "\n",
    "from sklearn.metrics import mean_squared_error\n",
    "mean_squared_error(np.array(test['f3']), p)"
   ]
  },
  {
   "cell_type": "code",
   "execution_count": null,
   "id": "fbc8be5b",
   "metadata": {},
   "outputs": [],
   "source": []
  }
 ],
 "metadata": {
  "kernelspec": {
   "display_name": "Python 3",
   "language": "python",
   "name": "python3"
  },
  "language_info": {
   "codemirror_mode": {
    "name": "ipython",
    "version": 3
   },
   "file_extension": ".py",
   "mimetype": "text/x-python",
   "name": "python",
   "nbconvert_exporter": "python",
   "pygments_lexer": "ipython3",
   "version": "3.10.1"
  }
 },
 "nbformat": 4,
 "nbformat_minor": 5
}
