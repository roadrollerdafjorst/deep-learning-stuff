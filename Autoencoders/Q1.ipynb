{
 "cells": [
  {
   "cell_type": "code",
   "execution_count": 1,
   "metadata": {},
   "outputs": [],
   "source": [
    "import numpy as np\n",
    "import pandas as pd\n",
    "import matplotlib.pyplot as plt\n",
    "import cv2\n",
    "import tensorflow as tf\n",
    "from tensorflow import keras\n",
    "from keras import layers, Sequential\n",
    "from keras.models import Model\n",
    "from keras.layers import Input, Dense\n",
    "from keras.optimizers import Adam, SGD, Adagrad, RMSprop\n",
    "from keras.callbacks import EarlyStopping, ModelCheckpoint, TensorBoard\n",
    "from keras import initializers\n",
    "from keras.optimizers import Adam\n",
    "import os\n",
    "from tensorflow.keras.preprocessing import image_dataset_from_directory\n",
    "tf.compat.v1.logging.set_verbosity(tf.compat.v1.logging.ERROR)"
   ]
  },
  {
   "cell_type": "markdown",
   "metadata": {},
   "source": [
    "#### Reading the data, normalizing and flattening it"
   ]
  },
  {
   "cell_type": "markdown",
   "metadata": {},
   "source": [
    "##### Reading tand Normalizing"
   ]
  },
  {
   "cell_type": "code",
   "execution_count": 2,
   "metadata": {},
   "outputs": [
    {
     "name": "stdout",
     "output_type": "stream",
     "text": [
      "Found 11385 files belonging to 5 classes.\n",
      "Found 3795 files belonging to 5 classes.\n",
      "Found 3795 files belonging to 5 classes.\n"
     ]
    }
   ],
   "source": [
    "\n",
    "train = image_dataset_from_directory(\n",
    "    'data/train/',\n",
    "    labels='inferred',\n",
    "    label_mode='int',\n",
    "    batch_size=1,\n",
    "    image_size=(28, 28),\n",
    "    shuffle=True,\n",
    "    seed=42,\n",
    "    color_mode='grayscale',\n",
    "    validation_split=0.0\n",
    ")\n",
    "\n",
    "val = image_dataset_from_directory(\n",
    "    'data/val/',\n",
    "    labels='inferred',\n",
    "    label_mode='int',\n",
    "    batch_size=1,\n",
    "    image_size=(28, 28),\n",
    "    shuffle=True,\n",
    "    seed=42,\n",
    "    color_mode='grayscale',\n",
    "    validation_split=0.0\n",
    ")\n",
    "\n",
    "test = image_dataset_from_directory(\n",
    "    'data/test/',\n",
    "    labels='inferred',\n",
    "    label_mode='int',\n",
    "    batch_size=1,\n",
    "    image_size=(28, 28),\n",
    "    shuffle=True,\n",
    "    seed=42,\n",
    "    color_mode='grayscale',\n",
    "    validation_split=0.0\n",
    ")\n",
    "\n",
    "def normalize(image,label):\n",
    "    image = tf.cast(image/255. ,tf.float32)\n",
    "    return image, label\n",
    "\n",
    "train = train.map(normalize)\n",
    "val = val.map(normalize)\n",
    "test = test.map(normalize)"
   ]
  },
  {
   "cell_type": "markdown",
   "metadata": {},
   "source": [
    "##### Flattening"
   ]
  },
  {
   "cell_type": "markdown",
   "metadata": {},
   "source": [
    "Preparing training tensors"
   ]
  },
  {
   "cell_type": "code",
   "execution_count": 3,
   "metadata": {},
   "outputs": [],
   "source": [
    "# Iterate through the dataset and reshape each image tensor\n",
    "image_tensors = []\n",
    "label_tensors = []\n",
    "for image, labels in train:\n",
    "    num_images = image.shape[0]\n",
    "    image_vectors = tf.reshape(image, [num_images, -1])\n",
    "    image_tensors.append(image_vectors)\n",
    "    label_tensors.append(labels)\n",
    "\n",
    "# Concatenate the image tensors into a single tensor\n",
    "train_vectors = [tf.concat(image_tensors, axis=0), tf.concat(label_tensors, axis=0)]"
   ]
  },
  {
   "cell_type": "markdown",
   "metadata": {},
   "source": [
    "Preparing validation tensors"
   ]
  },
  {
   "cell_type": "code",
   "execution_count": 4,
   "metadata": {},
   "outputs": [],
   "source": [
    "# Iterate through the dataset and reshape each image tensor\n",
    "image_tensors = []\n",
    "label_tensors = []\n",
    "for image, labels in val:\n",
    "    num_images = image.shape[0]\n",
    "    image_vectors = tf.reshape(image, [num_images, -1])\n",
    "    image_tensors.append(image_vectors)\n",
    "    label_tensors.append(labels)\n",
    "\n",
    "# Concatenate the image tensors into a single tensor\n",
    "val_vectors = [tf.concat(image_tensors, axis=0), tf.concat(label_tensors, axis=0)]"
   ]
  },
  {
   "cell_type": "markdown",
   "metadata": {},
   "source": [
    "Preparing testing tensors"
   ]
  },
  {
   "cell_type": "code",
   "execution_count": 5,
   "metadata": {},
   "outputs": [],
   "source": [
    "# Iterate through the dataset and reshape each image tensor\n",
    "image_tensors = []\n",
    "label_tensors = []\n",
    "for image, labels in test:\n",
    "    num_images = image.shape[0]\n",
    "    image_vectors = tf.reshape(image, [num_images, -1])\n",
    "    image_tensors.append(image_vectors)\n",
    "    label_tensors.append(labels)\n",
    "\n",
    "# Concatenate the image tensors into a single tensor\n",
    "test_vectors = [tf.concat(image_tensors, axis=0), tf.concat(label_tensors, axis=0)]"
   ]
  },
  {
   "cell_type": "markdown",
   "metadata": {},
   "source": [
    "#### PCA"
   ]
  },
  {
   "cell_type": "markdown",
   "metadata": {},
   "source": [
    "Reduce the dimensions to 32, 64, 128 and 256 dimensions through PCA"
   ]
  },
  {
   "cell_type": "code",
   "execution_count": 6,
   "metadata": {},
   "outputs": [],
   "source": [
    "mean = tf.reduce_mean(image_vectors, axis=0)"
   ]
  },
  {
   "cell_type": "code",
   "execution_count": 7,
   "metadata": {},
   "outputs": [],
   "source": [
    "train_vectors[0] -= mean\n",
    "val_vectors[0] -= mean\n",
    "test_vectors[0] -= mean"
   ]
  },
  {
   "cell_type": "code",
   "execution_count": 8,
   "metadata": {},
   "outputs": [],
   "source": [
    "num_components = [32,64,128,256]\n",
    "\n",
    "def get_reduced_representation(dim, vec):\n",
    "    # Calculate the covariance matrix\n",
    "    cov = tf.matmul(vec[0], vec[0], transpose_a=True)# / tf.cast(tf.shape(vec[0])[0], tf.float32)\n",
    "\n",
    "    # Perform eigenvalue decomposition on the covariance matrix\n",
    "    eigenvalues, eigenvectors = tf.linalg.eigh(cov)\n",
    "\n",
    "    # Sort the eigenvectors by eigenvalues in descending order\n",
    "    sorted_idx = tf.argsort(eigenvalues, direction='DESCENDING')\n",
    "    eigenvectors = tf.gather(eigenvectors, sorted_idx, axis=1)\n",
    "\n",
    "    # Keep only the top k eigenvectors\n",
    "    top_k_eigenvectors = tf.slice(eigenvectors, [0, 0], [-1, dim])\n",
    "\n",
    "    # Project the data onto the new basis\n",
    "    reduced_rep = tf.matmul(vec[0], top_k_eigenvectors)\n",
    "    return reduced_rep"
   ]
  },
  {
   "cell_type": "code",
   "execution_count": 9,
   "metadata": {},
   "outputs": [
    {
     "data": {
      "text/plain": [
       "(11385,)"
      ]
     },
     "execution_count": 9,
     "metadata": {},
     "output_type": "execute_result"
    }
   ],
   "source": [
    "t = get_reduced_representation(32, train_vectors)\n",
    "train_vectors[1].numpy().shape"
   ]
  },
  {
   "cell_type": "markdown",
   "metadata": {},
   "source": [
    "#### Building the model"
   ]
  },
  {
   "cell_type": "code",
   "execution_count": 10,
   "metadata": {},
   "outputs": [],
   "source": [
    "model_arch = [\n",
    "    [96, 64, 32],\n",
    "    [64, 96, 128],\n",
    "    [128, 96, 64],\n",
    "    [256, 128, 96]\n",
    "]"
   ]
  },
  {
   "cell_type": "code",
   "execution_count": 17,
   "metadata": {
    "scrolled": true
   },
   "outputs": [
    {
     "name": "stdout",
     "output_type": "stream",
     "text": [
      "Training models with different architectures and optimizers\n",
      "32-96-64-32...\n",
      "epochs: 180, acc: 0.6395257115364075\n",
      "\n",
      "32-64-96-128...\n",
      "epochs: 176, acc: 0.9407992959022522\n",
      "\n",
      "32-128-96-64...\n",
      "epochs: 260, acc: 0.9758453965187073\n",
      "\n",
      "32-256-128-96...\n",
      "epochs: 241, acc: 0.9826086759567261\n",
      "\n",
      "64-96-64-32...\n",
      "epochs: 225, acc: 0.7262187004089355\n",
      "\n",
      "64-64-96-128...\n",
      "epochs: 168, acc: 0.9702239632606506\n",
      "\n",
      "64-128-96-64...\n",
      "epochs: 136, acc: 0.9580149054527283\n",
      "\n",
      "64-256-128-96...\n",
      "epochs: 173, acc: 0.9886692762374878\n",
      "\n",
      "128-96-64-32...\n",
      "epochs: 183, acc: 0.79991215467453\n",
      "\n",
      "128-64-96-128...\n",
      "epochs: 142, acc: 0.9790074825286865\n",
      "\n",
      "128-128-96-64...\n",
      "epochs: 112, acc: 0.8648221492767334\n",
      "\n",
      "128-256-128-96...\n",
      "epochs: 92, acc: 0.9644268751144409\n",
      "\n",
      "256-96-64-32...\n",
      "epochs: 283, acc: 0.9974527955055237\n",
      "\n",
      "256-64-96-128...\n",
      "epochs: 141, acc: 0.9887571334838867\n",
      "\n",
      "256-128-96-64...\n",
      "epochs: 112, acc: 0.9880544543266296\n",
      "\n",
      "256-256-128-96...\n",
      "epochs: 88, acc: 0.9813790321350098\n",
      "\n"
     ]
    }
   ],
   "source": [
    "initializer = initializers.RandomNormal(mean=0.0, stddev=0.05, seed=42)\n",
    "\n",
    "model_history = dict()\n",
    "\n",
    "print('Training models with different architectures and optimizers')\n",
    "for reduced_dimension in [32,64,128,256]:\n",
    "    reduced_rep_train = get_reduced_representation(reduced_dimension, train_vectors)\n",
    "    reduced_rep_val = get_reduced_representation(reduced_dimension, val_vectors)\n",
    "    for layer_dims in model_arch:\n",
    "        print(f'{reduced_dimension}-{layer_dims[0]}-{layer_dims[1]}-{layer_dims[2]}...')\n",
    "        # define model\n",
    "        model = Sequential([\n",
    "            layers.Dense(reduced_dimension, activation=\"relu\", input_shape=(reduced_dimension,)),\n",
    "            # keras.Input(input_shape=(reduced_dimension,)),\n",
    "            layers.Dense(layer_dims[0], activation=\"sigmoid\", name=\"layer1\", \n",
    "                         kernel_initializer=initializer, bias_initializer=initializers.Zeros()),\n",
    "            layers.Dense(layer_dims[1], activation=\"sigmoid\", name=\"layer2\", \n",
    "                         kernel_initializer=initializer, bias_initializer=initializers.Zeros()),\n",
    "            layers.Dense(layer_dims[2], activation=\"sigmoid\", name=\"layer3\", \n",
    "                         kernel_initializer=initializer, bias_initializer=initializers.Zeros()),\n",
    "            # layers.Dense(layer_dims[3], activation=\"sigmoid\", name=\"layer4\", \n",
    "            #              kernel_initializer=initializer, bias_initializer=initializers.Zeros()),\n",
    "            layers.Dense(5, activation=\"softmax\", name=\"output\", \n",
    "                         kernel_initializer=initializer, bias_initializer=initializers.Zeros()),\n",
    "        ])\n",
    "        \n",
    "        # compile model\n",
    "        adam_optimizer = Adam(learning_rate=0.001, beta_1=0.9, beta_2=0.999, epsilon=1e-8)\n",
    "        model.compile(optimizer=adam_optimizer, loss='sparse_categorical_crossentropy', metrics=['accuracy'])\n",
    "        \n",
    "        # callbacks\n",
    "        my_callbacks = [\n",
    "            EarlyStopping(monitor='val_loss', min_delta=1e-7, patience=10),\n",
    "            TensorBoard(log_dir=f'./logdir/Q1/{reduced_dimension}-{layer_dims[0]}-{layer_dims[1]}-{layer_dims[2]}/')\n",
    "        ]\n",
    "        model_fit = model.fit(reduced_rep_train.numpy(),train_vectors[1].numpy(), batch_size=len(train_vectors[0]), epochs=10000, verbose=0, callbacks=my_callbacks, \n",
    "                              validation_split=0.0, validation_data=(reduced_rep_val.numpy(), val_vectors[1].numpy()), shuffle=True, validation_batch_size=None)\n",
    "        \n",
    "        model_history[f'{reduced_dimension}-{layer_dims[0]}-{layer_dims[1]}-{layer_dims[2]}'] = model_fit.history['accuracy']\n",
    "        \n",
    "        hist_metric = 'accuracy'\n",
    "        print(f'epochs: {len(model_fit.history[hist_metric])}, acc: {model_fit.history[hist_metric][-1]}\\n')\n",
    "        model.save(f'models/Q1/{reduced_dimension}-{layer_dims[0]}-{layer_dims[1]}-{layer_dims[2]}.tf')\n",
    "\n"
   ]
  },
  {
   "cell_type": "code",
   "execution_count": 18,
   "metadata": {
    "scrolled": true
   },
   "outputs": [
    {
     "name": "stdout",
     "output_type": "stream",
     "text": [
      "32-96-64-32...\n",
      "356/356 [==============================] - 0s 789us/step - loss: 0.7347 - accuracy: 0.6401\n",
      "119/119 [==============================] - 0s 744us/step - loss: 1.0691 - accuracy: 0.5194\n",
      "119/119 [==============================] - 0s 752us/step - loss: 0.9414 - accuracy: 0.5863\n",
      "\n",
      "\n",
      "\n",
      "32-64-96-128...\n",
      "356/356 [==============================] - 0s 736us/step - loss: 0.2415 - accuracy: 0.9412\n",
      "119/119 [==============================] - 0s 808us/step - loss: 0.7204 - accuracy: 0.7528\n",
      "119/119 [==============================] - 0s 757us/step - loss: 0.5522 - accuracy: 0.8121\n",
      "\n",
      "\n",
      "\n",
      "32-128-96-64...\n",
      "356/356 [==============================] - 0s 739us/step - loss: 0.1117 - accuracy: 0.9763\n",
      "119/119 [==============================] - 0s 757us/step - loss: 0.6638 - accuracy: 0.7974\n",
      "119/119 [==============================] - 0s 786us/step - loss: 0.4447 - accuracy: 0.8556\n",
      "\n",
      "\n",
      "\n",
      "32-256-128-96...\n",
      "356/356 [==============================] - 0s 834us/step - loss: 0.0706 - accuracy: 0.9829\n",
      "119/119 [==============================] - 0s 845us/step - loss: 0.4974 - accuracy: 0.8545\n",
      "119/119 [==============================] - 0s 938us/step - loss: 0.4686 - accuracy: 0.8493\n",
      "\n",
      "\n",
      "\n",
      "64-96-64-32...\n",
      "356/356 [==============================] - 0s 834us/step - loss: 0.6584 - accuracy: 0.7290\n",
      "119/119 [==============================] - 0s 735us/step - loss: 1.0480 - accuracy: 0.5942\n",
      "119/119 [==============================] - 0s 762us/step - loss: 0.9730 - accuracy: 0.6519\n",
      "\n",
      "\n",
      "\n",
      "64-64-96-128...\n",
      "356/356 [==============================] - 0s 750us/step - loss: 0.1599 - accuracy: 0.9705\n",
      "119/119 [==============================] - 0s 755us/step - loss: 0.6274 - accuracy: 0.7852\n",
      "119/119 [==============================] - 0s 744us/step - loss: 0.5316 - accuracy: 0.8121\n",
      "\n",
      "\n",
      "\n",
      "64-128-96-64...\n",
      "356/356 [==============================] - 0s 775us/step - loss: 0.2843 - accuracy: 0.9587\n",
      "119/119 [==============================] - 0s 769us/step - loss: 0.8116 - accuracy: 0.7310\n",
      "119/119 [==============================] - 0s 778us/step - loss: 0.6828 - accuracy: 0.7866\n",
      "\n",
      "\n",
      "\n",
      "64-256-128-96...\n",
      "356/356 [==============================] - 0s 877us/step - loss: 0.0715 - accuracy: 0.9890\n",
      "119/119 [==============================] - 0s 837us/step - loss: 0.7231 - accuracy: 0.7889\n",
      "119/119 [==============================] - 0s 854us/step - loss: 0.5737 - accuracy: 0.8253\n",
      "\n",
      "\n",
      "\n",
      "128-96-64-32...\n",
      "356/356 [==============================] - 0s 739us/step - loss: 0.4650 - accuracy: 0.7999\n",
      "119/119 [==============================] - 0s 762us/step - loss: 1.0398 - accuracy: 0.6466\n",
      "119/119 [==============================] - 0s 771us/step - loss: 0.8151 - accuracy: 0.7170\n",
      "\n",
      "\n",
      "\n",
      "128-64-96-128...\n",
      "356/356 [==============================] - 0s 753us/step - loss: 0.1625 - accuracy: 0.9799\n",
      "119/119 [==============================] - 0s 778us/step - loss: 0.7888 - accuracy: 0.7436\n",
      "119/119 [==============================] - 0s 786us/step - loss: 0.6262 - accuracy: 0.7921\n",
      "\n",
      "\n",
      "\n",
      "128-128-96-64...\n",
      "356/356 [==============================] - 0s 776us/step - loss: 0.4256 - accuracy: 0.8707\n",
      "119/119 [==============================] - 0s 803us/step - loss: 0.8857 - accuracy: 0.6775\n",
      "119/119 [==============================] - 0s 792us/step - loss: 0.9192 - accuracy: 0.6659\n",
      "\n",
      "\n",
      "\n",
      "128-256-128-96...\n",
      "356/356 [==============================] - 1s 1ms/step - loss: 0.2524 - accuracy: 0.9650\n",
      "119/119 [==============================] - 0s 913us/step - loss: 0.7741 - accuracy: 0.7381\n",
      "119/119 [==============================] - 0s 997us/step - loss: 0.7169 - accuracy: 0.7536\n",
      "\n",
      "\n",
      "\n",
      "256-96-64-32...\n",
      "356/356 [==============================] - 0s 857us/step - loss: 0.2058 - accuracy: 0.9975\n",
      "119/119 [==============================] - 0s 972us/step - loss: 0.9178 - accuracy: 0.7373\n",
      "119/119 [==============================] - 0s 879us/step - loss: 0.8350 - accuracy: 0.7499\n",
      "\n",
      "\n",
      "\n",
      "256-64-96-128...\n",
      "356/356 [==============================] - 0s 907us/step - loss: 0.1500 - accuracy: 0.9895\n",
      "119/119 [==============================] - 0s 938us/step - loss: 0.8580 - accuracy: 0.7339\n",
      "119/119 [==============================] - 0s 872us/step - loss: 0.7885 - accuracy: 0.7560\n",
      "\n",
      "\n",
      "\n",
      "256-128-96-64...\n",
      "356/356 [==============================] - 0s 964us/step - loss: 0.2712 - accuracy: 0.9885\n",
      "119/119 [==============================] - 0s 955us/step - loss: 0.8689 - accuracy: 0.7196\n",
      "119/119 [==============================] - 0s 1ms/step - loss: 0.8080 - accuracy: 0.7468\n",
      "\n",
      "\n",
      "\n",
      "256-256-128-96...\n",
      "356/356 [==============================] - 0s 1ms/step - loss: 0.2100 - accuracy: 0.9825\n",
      "119/119 [==============================] - 0s 1ms/step - loss: 0.7855 - accuracy: 0.7431\n",
      "119/119 [==============================] - 0s 1ms/step - loss: 0.7391 - accuracy: 0.7644\n",
      "\n",
      "\n",
      "\n"
     ]
    }
   ],
   "source": [
    "for reduced_dimension in [32,64,128,256]:\n",
    "    reduced_rep_train = get_reduced_representation(reduced_dimension, train_vectors)\n",
    "    reduced_rep_val = get_reduced_representation(reduced_dimension, val_vectors)\n",
    "    reduced_rep_test = get_reduced_representation(reduced_dimension, test_vectors)\n",
    "    for layer_dims in model_arch:\n",
    "        print(f'{reduced_dimension}-{layer_dims[0]}-{layer_dims[1]}-{layer_dims[2]}...')\n",
    "        temp_model = tf.keras.models.load_model(\n",
    "            f'models/Q1/{reduced_dimension}-{layer_dims[0]}-{layer_dims[1]}-{layer_dims[2]}.tf')\n",
    "        l, acc = temp_model.evaluate(reduced_rep_train.numpy(), train_vectors[1].numpy())\n",
    "        l, acc = temp_model.evaluate(reduced_rep_val.numpy(), val_vectors[1].numpy())\n",
    "        l, acc = temp_model.evaluate(reduced_rep_test.numpy(), test_vectors[1].numpy())\n",
    "        print('\\n\\n')"
   ]
  },
  {
   "cell_type": "code",
   "execution_count": 22,
   "metadata": {},
   "outputs": [
    {
     "name": "stdout",
     "output_type": "stream",
     "text": [
      "119/119 [==============================] - 0s 668us/step\n",
      "confusion matrix (test):\n"
     ]
    },
    {
     "data": {
      "image/png": "[encoded data removed]",
      "text/plain": [
       "<Figure size 504x504 with 1 Axes>"
      ]
     },
     "metadata": {
      "needs_background": "light"
     },
     "output_type": "display_data"
    }
   ],
   "source": [
    "from sklearn.metrics import ConfusionMatrixDisplay\n",
    "from sklearn.metrics import accuracy_score, confusion_matrix\n",
    "\n",
    "best_arch = '128-96-64'\n",
    "best_model = tf.keras.models.load_model(\n",
    "            f'models/Q1/{32}-{best_arch}.tf')\n",
    "\n",
    "test_pred = best_model.predict(get_reduced_representation(32, test_vectors))\n",
    "pred_class_test = np.argmax(test_pred, axis=1)\n",
    "\n",
    "test_score = accuracy_score(test_vectors[1].numpy(), pred_class_test)\n",
    "\n",
    "print('confusion matrix (test):')\n",
    "fig = plt.figure(figsize=(7, 7))\n",
    "#fig.suptitle('Confusion Matrix (Test Set)', y=0.04, fontsize=15)\n",
    "ax = fig.add_subplot(111)\n",
    "cm_display = ConfusionMatrixDisplay(confusion_matrix = confusion_matrix(test_vectors[1].numpy(), pred_class_test), display_labels=['0', '1', '5', '7', '8'])\n",
    "cm_display.plot(ax = ax, cmap='Greys', colorbar=False)\n",
    "ax.set_title(f'arch: {best_arch}, acc: {0.8216}', fontdict = {'fontsize':14}, )\n",
    "plt.show()"
   ]
  },
  {
   "cell_type": "code",
   "execution_count": 19,
   "metadata": {},
   "outputs": [
    {
     "data": {
      "text/plain": [
       "array([2, 0, 2, ..., 1, 4, 2])"
      ]
     },
     "execution_count": 19,
     "metadata": {},
     "output_type": "execute_result"
    }
   ],
   "source": [
    "train_vectors[1].numpy()"
   ]
  },
  {
   "cell_type": "code",
   "execution_count": null,
   "metadata": {},
   "outputs": [],
   "source": []
  }
 ],
 "metadata": {
  "kernelspec": {
   "display_name": "Python 3",
   "language": "python",
   "name": "python3"
  },
  "language_info": {
   "codemirror_mode": {
    "name": "ipython",
    "version": 3
   },
   "file_extension": ".py",
   "mimetype": "text/x-python",
   "name": "python",
   "nbconvert_exporter": "python",
   "pygments_lexer": "ipython3",
   "version": "3.10.1"
  },
  "vscode": {
   "interpreter": {
    "hash": "916dbcbb3f70747c44a77c7bcd40155683ae19c65e1c03b4aa3499c5328201f1"
   }
  }
 },
 "nbformat": 4,
 "nbformat_minor": 2
}
