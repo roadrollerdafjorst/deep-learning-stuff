{
 "cells": [
  {
   "cell_type": "code",
   "execution_count": 1,
   "metadata": {},
   "outputs": [],
   "source": [
    "import numpy as np\n",
    "import pandas as pd\n",
    "import matplotlib.pyplot as plt\n",
    "import cv2\n",
    "import tensorflow as tf\n",
    "from tensorflow import keras\n",
    "from keras import layers, Sequential\n",
    "from keras.models import Model\n",
    "from keras.layers import Input, Dense\n",
    "from keras.optimizers import Adam, SGD, Adagrad, RMSprop\n",
    "from keras.callbacks import EarlyStopping, ModelCheckpoint, TensorBoard\n",
    "from keras import initializers\n",
    "from keras.optimizers import Adam\n",
    "import os\n",
    "from tensorflow.keras.preprocessing import image_dataset_from_directory\n",
    "tf.compat.v1.logging.set_verbosity(tf.compat.v1.logging.ERROR)\n",
    "import matplotlib.pyplot as plt"
   ]
  },
  {
   "cell_type": "markdown",
   "metadata": {},
   "source": [
    "#### Reading the data, normalizing and flattening it"
   ]
  },
  {
   "cell_type": "markdown",
   "metadata": {},
   "source": [
    "##### Reading and Normalizing"
   ]
  },
  {
   "cell_type": "code",
   "execution_count": 2,
   "metadata": {},
   "outputs": [
    {
     "name": "stdout",
     "output_type": "stream",
     "text": [
      "Found 11385 files belonging to 5 classes.\n",
      "Found 3795 files belonging to 5 classes.\n",
      "Found 3795 files belonging to 5 classes.\n"
     ]
    }
   ],
   "source": [
    "\n",
    "train = image_dataset_from_directory(\n",
    "    'Group_24/train/',\n",
    "    labels='inferred',\n",
    "    label_mode='int',\n",
    "    batch_size=1,\n",
    "    image_size=(28, 28),\n",
    "    shuffle=True,\n",
    "    seed=42,\n",
    "    color_mode='grayscale',\n",
    "    validation_split=0.0\n",
    ")\n",
    "\n",
    "val = image_dataset_from_directory(\n",
    "    'Group_24/val/',\n",
    "    labels='inferred',\n",
    "    label_mode='int',\n",
    "    batch_size=1,\n",
    "    image_size=(28, 28),\n",
    "    shuffle=True,\n",
    "    seed=42,\n",
    "    color_mode='grayscale',\n",
    "    validation_split=0.0\n",
    ")\n",
    "\n",
    "test = image_dataset_from_directory(\n",
    "    'Group_24/test/',\n",
    "    labels='inferred',\n",
    "    label_mode='int',\n",
    "    batch_size=1,\n",
    "    image_size=(28, 28),\n",
    "    shuffle=True,\n",
    "    seed=42,\n",
    "    color_mode='grayscale',\n",
    "    validation_split=0.0\n",
    ")\n",
    "\n",
    "def normalize(image,label):\n",
    "    image = tf.cast(image/255. ,tf.float32)\n",
    "    return image, label\n",
    "\n",
    "train = train.map(normalize)\n",
    "val = val.map(normalize)\n",
    "test = test.map(normalize)"
   ]
  },
  {
   "cell_type": "markdown",
   "metadata": {},
   "source": [
    "##### Flattening"
   ]
  },
  {
   "cell_type": "markdown",
   "metadata": {},
   "source": [
    "Preparing training tensors"
   ]
  },
  {
   "cell_type": "code",
   "execution_count": 3,
   "metadata": {},
   "outputs": [],
   "source": [
    "# Iterate through the dataset and reshape each image tensor\n",
    "image_tensors = []\n",
    "label_tensors = []\n",
    "for image, labels in train:\n",
    "    num_images = image.shape[0]\n",
    "    image_vectors = tf.reshape(image, [num_images, -1])\n",
    "    image_tensors.append(image_vectors)\n",
    "    label_tensors.append(labels)\n",
    "\n",
    "# Concatenate the image tensors into a single tensor\n",
    "train_vectors = [tf.concat(image_tensors, axis=0), tf.concat(label_tensors, axis=0)]"
   ]
  },
  {
   "cell_type": "markdown",
   "metadata": {},
   "source": [
    "Preparing validation tensors"
   ]
  },
  {
   "cell_type": "code",
   "execution_count": 4,
   "metadata": {},
   "outputs": [],
   "source": [
    "# Iterate through the dataset and reshape each image tensor\n",
    "image_tensors = []\n",
    "label_tensors = []\n",
    "for image, labels in val:\n",
    "    num_images = image.shape[0]\n",
    "    image_vectors = tf.reshape(image, [num_images, -1])\n",
    "    image_tensors.append(image_vectors)\n",
    "    label_tensors.append(labels)\n",
    "\n",
    "# Concatenate the image tensors into a single tensor\n",
    "val_vectors = [tf.concat(image_tensors, axis=0), tf.concat(label_tensors, axis=0)]"
   ]
  },
  {
   "cell_type": "markdown",
   "metadata": {},
   "source": [
    "Preparing testing tensors"
   ]
  },
  {
   "cell_type": "code",
   "execution_count": 5,
   "metadata": {},
   "outputs": [],
   "source": [
    "# Iterate through the dataset and reshape each image tensor\n",
    "image_tensors = []\n",
    "label_tensors = []\n",
    "for image, labels in test:\n",
    "    num_images = image.shape[0]\n",
    "    image_vectors = tf.reshape(image, [num_images, -1])\n",
    "    image_tensors.append(image_vectors)\n",
    "    label_tensors.append(labels)\n",
    "\n",
    "# Concatenate the image tensors into a single tensor\n",
    "test_vectors = [tf.concat(image_tensors, axis=0), tf.concat(label_tensors, axis=0)]"
   ]
  },
  {
   "cell_type": "markdown",
   "metadata": {},
   "source": [
    "#### Finding compressed representation"
   ]
  },
  {
   "cell_type": "code",
   "execution_count": 6,
   "metadata": {},
   "outputs": [],
   "source": [
    "def get_reduced_representation(dim, vec):\n",
    "    models = os.listdir('./models/Q22')\n",
    "    model_path = str\n",
    "    for model in models:\n",
    "        if( (\"3_hidden\" in model) and ((str(dim)+\"_n\") in model)) : model_path = model\n",
    "    loaded_model = tf.keras.models.load_model(os.path.join('./models/Q22', model_path))\n",
    "    hidden_layer_model = tf.keras.models.Model(inputs=loaded_model.input, outputs=loaded_model.layers[2].output)\n",
    "    hidden_output = hidden_layer_model.predict(vec[0].numpy().reshape(len(vec[0]),784))\n",
    "    return hidden_output"
   ]
  },
  {
   "cell_type": "markdown",
   "metadata": {},
   "source": [
    "#### Building classifiers"
   ]
  },
  {
   "cell_type": "code",
   "execution_count": 10,
   "metadata": {
    "collapsed": true
   },
   "outputs": [
    {
     "name": "stdout",
     "output_type": "stream",
     "text": [
      "Training models with different architectures\n",
      "356/356 [==============================] - 1s 2ms/step\n",
      "119/119 [==============================] - 0s 2ms/step\n",
      "32-96-64-32...\n",
      "epochs: 1073, acc: 0.9688186049461365\n",
      "\n",
      "32-64-96-128...\n",
      "epochs: 1161, acc: 0.9707509875297546\n",
      "\n",
      "32-128-96-64...\n",
      "epochs: 789, acc: 0.9662714004516602\n",
      "\n",
      "32-256-128-96...\n",
      "epochs: 715, acc: 0.9625823497772217\n",
      "\n",
      "356/356 [==============================] - 1s 3ms/step\n",
      "119/119 [==============================] - 0s 3ms/step\n",
      "64-96-64-32...\n",
      "epochs: 860, acc: 0.9942907094955444\n",
      "\n",
      "64-64-96-128...\n",
      "epochs: 680, acc: 0.9894598126411438\n",
      "\n",
      "64-128-96-64...\n",
      "epochs: 650, acc: 0.9899868369102478\n",
      "\n",
      "64-256-128-96...\n",
      "epochs: 509, acc: 0.9889327883720398\n",
      "\n",
      "356/356 [==============================] - 1s 3ms/step\n",
      "119/119 [==============================] - 0s 2ms/step\n",
      "128-96-64-32...\n",
      "epochs: 736, acc: 0.9980676174163818\n",
      "\n",
      "128-64-96-128...\n",
      "epochs: 459, acc: 0.9932367205619812\n",
      "\n",
      "128-128-96-64...\n",
      "epochs: 477, acc: 0.9968379735946655\n",
      "\n",
      "128-256-128-96...\n",
      "epochs: 418, acc: 0.9960474371910095\n",
      "\n",
      "356/356 [==============================] - 1s 3ms/step\n",
      "119/119 [==============================] - 0s 3ms/step\n",
      "256-96-64-32...\n",
      "epochs: 640, acc: 0.9983311295509338\n",
      "\n",
      "256-64-96-128...\n",
      "epochs: 351, acc: 0.9968379735946655\n",
      "\n",
      "256-128-96-64...\n",
      "epochs: 449, acc: 0.9979798197746277\n",
      "\n",
      "256-256-128-96...\n",
      "epochs: 364, acc: 0.9983311295509338\n",
      "\n"
     ]
    }
   ],
   "source": [
    "model_arch = [\n",
    "    [96, 64, 32],\n",
    "    [64, 96, 128],\n",
    "    [128, 96, 64],\n",
    "    [256, 128, 96]\n",
    "]\n",
    "initializer = initializers.RandomNormal(mean=0.0, stddev=0.05, seed=42)\n",
    "\n",
    "k=5 # no. of classes\n",
    "model_history = dict()\n",
    "\n",
    "# train different achitectures and optimizers\n",
    "print('Training models with different architectures')\n",
    "for reduced_dimension in [32,64,128,256]:\n",
    "    reduced_rep_train = get_reduced_representation(reduced_dimension, train_vectors)\n",
    "    reduced_rep_val = get_reduced_representation(reduced_dimension, val_vectors)\n",
    "    for layer_dims in model_arch:\n",
    "        print(f'{reduced_dimension}-{layer_dims[0]}-{layer_dims[1]}-{layer_dims[2]}...')\n",
    "        # define model\n",
    "        model = Sequential([\n",
    "            layers.Dense(reduced_dimension, activation=\"relu\", input_shape=(reduced_dimension,)),\n",
    "            # keras.Input(input_shape=(reduced_dimension,)),\n",
    "            layers.Dense(layer_dims[0], activation=\"sigmoid\", name=\"layer1\", \n",
    "                         kernel_initializer=initializer, bias_initializer=initializers.Zeros()),\n",
    "            layers.Dense(layer_dims[1], activation=\"sigmoid\", name=\"layer2\", \n",
    "                         kernel_initializer=initializer, bias_initializer=initializers.Zeros()),\n",
    "            layers.Dense(layer_dims[2], activation=\"sigmoid\", name=\"layer3\", \n",
    "                         kernel_initializer=initializer, bias_initializer=initializers.Zeros()),\n",
    "            # layers.Dense(layer_dims[3], activation=\"sigmoid\", name=\"layer4\", \n",
    "            #              kernel_initializer=initializer, bias_initializer=initializers.Zeros()),\n",
    "            layers.Dense(k, activation=\"softmax\", name=\"output\", \n",
    "                         kernel_initializer=initializer, bias_initializer=initializers.Zeros()),\n",
    "        ])\n",
    "        \n",
    "        # compile model\n",
    "        adam_optimizer = Adam(learning_rate=0.001, beta_1=0.9, beta_2=0.999, epsilon=1e-8)\n",
    "        model.compile(optimizer=adam_optimizer, loss='sparse_categorical_crossentropy', metrics=['accuracy'])\n",
    "        \n",
    "        # callbacks\n",
    "        my_callbacks = [\n",
    "            EarlyStopping(monitor='val_loss', min_delta=1e-7, patience=10),\n",
    "            TensorBoard(log_dir=f'./logdir/Q4/{reduced_dimension}-{layer_dims[0]}-{layer_dims[1]}-{layer_dims[2]}/')\n",
    "        ]\n",
    "        model_fit = model.fit(reduced_rep_train, train_vectors[1].numpy(), batch_size=len(train_vectors[0]), epochs=10000, verbose=0, callbacks=my_callbacks, \n",
    "                              validation_split=0.0, validation_data=(reduced_rep_val, val_vectors[1].numpy()), shuffle=True, validation_batch_size=None)\n",
    "        \n",
    "        model_history[f'{reduced_dimension}-{layer_dims[0]}-{layer_dims[1]}-{layer_dims[2]}'] = model_fit.history['accuracy']\n",
    "        \n",
    "        hist_metric = 'accuracy'\n",
    "        print(f'epochs: {len(model_fit.history[hist_metric])}, acc: {model_fit.history[hist_metric][-1]}\\n')\n",
    "        model.save(f'models/Q4/{reduced_dimension}-{layer_dims[0]}-{layer_dims[1]}-{layer_dims[2]}.tf')\n",
    "\n"
   ]
  },
  {
   "cell_type": "code",
   "execution_count": 8,
   "metadata": {},
   "outputs": [
    {
     "name": "stdout",
     "output_type": "stream",
     "text": [
      "356/356 [==============================] - 1s 2ms/step\n",
      "119/119 [==============================] - 0s 2ms/step\n",
      "119/119 [==============================] - 0s 2ms/step\n",
      "32-96-64-32...\n",
      "356/356 [==============================] - 0s 705us/step - loss: 0.0270 - accuracy: 0.9952\n",
      "119/119 [==============================] - 0s 761us/step - loss: 0.0768 - accuracy: 0.9763\n",
      "119/119 [==============================] - 0s 727us/step - loss: 0.0763 - accuracy: 0.9781\n",
      "32-64-96-128...\n",
      "356/356 [==============================] - 0s 697us/step - loss: 0.0207 - accuracy: 0.9953\n",
      "119/119 [==============================] - 0s 710us/step - loss: 0.0655 - accuracy: 0.9823\n",
      "119/119 [==============================] - 0s 710us/step - loss: 0.0923 - accuracy: 0.9752\n",
      "32-128-96-64...\n",
      "356/356 [==============================] - 0s 700us/step - loss: 0.0309 - accuracy: 0.9917\n",
      "119/119 [==============================] - 0s 719us/step - loss: 0.0785 - accuracy: 0.9752\n",
      "119/119 [==============================] - 0s 744us/step - loss: 0.0970 - accuracy: 0.9736\n",
      "32-256-128-96...\n",
      "356/356 [==============================] - 0s 774us/step - loss: 0.0235 - accuracy: 0.9935\n",
      "119/119 [==============================] - 0s 826us/step - loss: 0.0825 - accuracy: 0.9771\n",
      "119/119 [==============================] - 0s 791us/step - loss: 0.0906 - accuracy: 0.9752\n",
      "356/356 [==============================] - 1s 2ms/step\n",
      "119/119 [==============================] - 0s 2ms/step\n",
      "119/119 [==============================] - 0s 2ms/step\n",
      "64-96-64-32...\n",
      "356/356 [==============================] - 0s 691us/step - loss: 0.0132 - accuracy: 0.9996\n",
      "119/119 [==============================] - 0s 804us/step - loss: 0.0658 - accuracy: 0.9837\n",
      "119/119 [==============================] - 0s 727us/step - loss: 0.0787 - accuracy: 0.9808\n",
      "64-64-96-128...\n",
      "356/356 [==============================] - 0s 710us/step - loss: 0.0072 - accuracy: 0.9989\n",
      "119/119 [==============================] - 0s 744us/step - loss: 0.0785 - accuracy: 0.9779\n",
      "119/119 [==============================] - 0s 736us/step - loss: 0.0725 - accuracy: 0.9792\n",
      "64-128-96-64...\n",
      "356/356 [==============================] - 0s 714us/step - loss: 0.0059 - accuracy: 0.9996\n",
      "119/119 [==============================] - 0s 744us/step - loss: 0.0619 - accuracy: 0.9818\n",
      "119/119 [==============================] - 0s 752us/step - loss: 0.0745 - accuracy: 0.9789\n",
      "64-256-128-96...\n",
      "356/356 [==============================] - 0s 879us/step - loss: 0.0131 - accuracy: 0.9981\n",
      "119/119 [==============================] - 0s 854us/step - loss: 0.0708 - accuracy: 0.9784\n",
      "119/119 [==============================] - 0s 938us/step - loss: 0.0765 - accuracy: 0.9779\n",
      "356/356 [==============================] - 1s 2ms/step\n",
      "119/119 [==============================] - 0s 2ms/step\n",
      "119/119 [==============================] - 0s 2ms/step\n",
      "128-96-64-32...\n",
      "356/356 [==============================] - 1s 1ms/step - loss: 0.0248 - accuracy: 0.9993\n",
      "119/119 [==============================] - 0s 769us/step - loss: 0.0711 - accuracy: 0.9858\n",
      "119/119 [==============================] - 0s 735us/step - loss: 0.0781 - accuracy: 0.9829\n",
      "128-64-96-128...\n",
      "356/356 [==============================] - 0s 742us/step - loss: 0.0060 - accuracy: 0.9995\n",
      "119/119 [==============================] - 0s 837us/step - loss: 0.0516 - accuracy: 0.9837\n",
      "119/119 [==============================] - 0s 837us/step - loss: 0.0566 - accuracy: 0.9834\n",
      "128-128-96-64...\n",
      "356/356 [==============================] - 0s 742us/step - loss: 0.0046 - accuracy: 0.9998\n",
      "119/119 [==============================] - 0s 1ms/step - loss: 0.0464 - accuracy: 0.9863\n",
      "119/119 [==============================] - 0s 1ms/step - loss: 0.0568 - accuracy: 0.9860\n",
      "128-256-128-96...\n",
      "356/356 [==============================] - 1s 2ms/step - loss: 0.0038 - accuracy: 0.9998\n",
      "119/119 [==============================] - 0s 1ms/step - loss: 0.0527 - accuracy: 0.9837\n",
      "119/119 [==============================] - 0s 997us/step - loss: 0.0538 - accuracy: 0.9850\n",
      "356/356 [==============================] - 1s 3ms/step\n",
      "119/119 [==============================] - 0s 3ms/step\n",
      "119/119 [==============================] - 0s 2ms/step\n",
      "256-96-64-32...\n",
      "356/356 [==============================] - 0s 862us/step - loss: 0.0211 - accuracy: 0.9996\n",
      "119/119 [==============================] - 0s 854us/step - loss: 0.0732 - accuracy: 0.9834\n",
      "119/119 [==============================] - 0s 2ms/step - loss: 0.0748 - accuracy: 0.9842\n",
      "256-64-96-128...\n",
      "356/356 [==============================] - 0s 961us/step - loss: 0.0042 - accuracy: 0.9996\n",
      "119/119 [==============================] - 0s 820us/step - loss: 0.0531 - accuracy: 0.9839\n",
      "119/119 [==============================] - 0s 828us/step - loss: 0.0599 - accuracy: 0.9858\n",
      "256-128-96-64...\n",
      "356/356 [==============================] - 0s 921us/step - loss: 0.0054 - accuracy: 0.9998\n",
      "119/119 [==============================] - 0s 870us/step - loss: 0.0511 - accuracy: 0.9871\n",
      "119/119 [==============================] - 0s 955us/step - loss: 0.0611 - accuracy: 0.9852\n",
      "256-256-128-96...\n",
      "356/356 [==============================] - 1s 1ms/step - loss: 0.0028 - accuracy: 0.9999\n",
      "119/119 [==============================] - 0s 2ms/step - loss: 0.0486 - accuracy: 0.9874\n",
      "119/119 [==============================] - 0s 947us/step - loss: 0.0581 - accuracy: 0.9850\n"
     ]
    }
   ],
   "source": [
    "model_arch = [\n",
    "    [96, 64, 32],\n",
    "    [64, 96, 128],\n",
    "    [128, 96, 64],\n",
    "    [256, 128, 96]\n",
    "]\n",
    "initializer = initializers.RandomNormal(mean=0.0, stddev=0.05, seed=42)\n",
    "\n",
    "k=5 # no. of classes\n",
    "for reduced_dimension in [32,64,128,256]:\n",
    "    reduced_rep_train = get_reduced_representation(reduced_dimension, train_vectors)\n",
    "    reduced_rep_val = get_reduced_representation(reduced_dimension, val_vectors)\n",
    "    reduced_rep_test = get_reduced_representation(reduced_dimension, test_vectors)\n",
    "    for layer_dims in model_arch:\n",
    "        print(f'{reduced_dimension}-{layer_dims[0]}-{layer_dims[1]}-{layer_dims[2]}...')\n",
    "        \n",
    "        model_path = f'models/Q44/{reduced_dimension}-{layer_dims[0]}-{layer_dims[1]}-{layer_dims[2]}.tf'\n",
    "        model = tf.keras.models.load_model(model_path)\n",
    "        \n",
    "        model.evaluate(reduced_rep_train,train_vectors[1].numpy())\n",
    "        model.evaluate(reduced_rep_val,val_vectors[1].numpy())    \n",
    "        model.evaluate(reduced_rep_test,test_vectors[1].numpy())  "
   ]
  },
  {
   "cell_type": "code",
   "execution_count": 9,
   "metadata": {},
   "outputs": [
    {
     "name": "stdout",
     "output_type": "stream",
     "text": [
      "119/119 [==============================] - 0s 2ms/step\n",
      "119/119 [==============================] - 0s 862us/step\n",
      "confusion matrix (test):\n"
     ]
    },
    {
     "data": {
      "image/png": "[encoded data removed]",
      "text/plain": [
       "<Figure size 504x504 with 1 Axes>"
      ]
     },
     "metadata": {
      "needs_background": "light"
     },
     "output_type": "display_data"
    }
   ],
   "source": [
    "from sklearn.metrics import ConfusionMatrixDisplay\n",
    "from sklearn.metrics import accuracy_score, confusion_matrix\n",
    "\n",
    "best_arch = '64-96-128'\n",
    "best_red = 32\n",
    "best_model = tf.keras.models.load_model(\n",
    "            f'models/Q44/{best_red}-{best_arch}.tf')\n",
    "\n",
    "test_pred = best_model.predict(get_reduced_representation(best_red, test_vectors))\n",
    "pred_class_test = np.argmax(test_pred, axis=1)\n",
    "\n",
    "test_score = accuracy_score(test_vectors[1].numpy(), pred_class_test)\n",
    "\n",
    "print('confusion matrix (test):')\n",
    "fig = plt.figure(figsize=(7, 7))\n",
    "#fig.suptitle('Confusion Matrix (Test Set)', y=0.04, fontsize=15)\n",
    "ax = fig.add_subplot(111)\n",
    "cm_display = ConfusionMatrixDisplay(confusion_matrix = confusion_matrix(test_vectors[1].numpy(), pred_class_test), display_labels=['0', '1', '5', '7', '8'])\n",
    "cm_display.plot(ax = ax, cmap='Greys', colorbar=False)\n",
    "ax.set_title(f'arch: {best_arch}, acc: {np.round(test_score, 4)}', fontdict = {'fontsize':14}, )\n",
    "plt.show()"
   ]
  },
  {
   "cell_type": "code",
   "execution_count": null,
   "metadata": {},
   "outputs": [],
   "source": []
  }
 ],
 "metadata": {
  "kernelspec": {
   "display_name": "Python 3",
   "language": "python",
   "name": "python3"
  },
  "language_info": {
   "codemirror_mode": {
    "name": "ipython",
    "version": 3
   },
   "file_extension": ".py",
   "mimetype": "text/x-python",
   "name": "python",
   "nbconvert_exporter": "python",
   "pygments_lexer": "ipython3",
   "version": "3.10.1"
  },
  "vscode": {
   "interpreter": {
    "hash": "916dbcbb3f70747c44a77c7bcd40155683ae19c65e1c03b4aa3499c5328201f1"
   }
  }
 },
 "nbformat": 4,
 "nbformat_minor": 2
}
