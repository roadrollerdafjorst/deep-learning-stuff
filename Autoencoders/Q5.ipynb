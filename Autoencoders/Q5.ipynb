{
 "cells": [
  {
   "cell_type": "code",
   "execution_count": 1,
   "metadata": {},
   "outputs": [],
   "source": [
    "import numpy as np\n",
    "import pandas as pd\n",
    "import matplotlib.pyplot as plt\n",
    "import cv2\n",
    "import tensorflow as tf\n",
    "from tensorflow import keras\n",
    "from keras import layers, Sequential\n",
    "from keras.models import Model\n",
    "from keras.layers import Input, Dense\n",
    "from tensorflow.keras.optimizers import Adam, SGD, Adagrad, RMSprop\n",
    "from keras.callbacks import EarlyStopping, ModelCheckpoint, TensorBoard\n",
    "from keras import initializers\n",
    "import os\n",
    "from tensorflow.keras.preprocessing import image_dataset_from_directory\n",
    "tf.compat.v1.logging.set_verbosity(tf.compat.v1.logging.ERROR)\n",
    "import matplotlib.pyplot as plt"
   ]
  },
  {
   "cell_type": "markdown",
   "metadata": {},
   "source": [
    "#### Reading the data, normalizing and flattening it"
   ]
  },
  {
   "cell_type": "markdown",
   "metadata": {},
   "source": [
    "##### Reading and Normalizing"
   ]
  },
  {
   "cell_type": "code",
   "execution_count": 2,
   "metadata": {},
   "outputs": [
    {
     "name": "stdout",
     "output_type": "stream",
     "text": [
      "Found 11385 files belonging to 5 classes.\n",
      "Found 3795 files belonging to 5 classes.\n",
      "Found 3795 files belonging to 5 classes.\n"
     ]
    }
   ],
   "source": [
    "\n",
    "train = image_dataset_from_directory(\n",
    "    'Group_24/train/',\n",
    "    labels='inferred',\n",
    "    label_mode='int',\n",
    "    batch_size=1,\n",
    "    image_size=(28, 28),\n",
    "    shuffle=True,\n",
    "    seed=42,\n",
    "    color_mode='grayscale',\n",
    "    validation_split=0.0\n",
    ")\n",
    "\n",
    "val = image_dataset_from_directory(\n",
    "    'Group_24/val/',\n",
    "    labels='inferred',\n",
    "    label_mode='int',\n",
    "    batch_size=1,\n",
    "    image_size=(28, 28),\n",
    "    shuffle=True,\n",
    "    seed=42,\n",
    "    color_mode='grayscale',\n",
    "    validation_split=0.0\n",
    ")\n",
    "\n",
    "test = image_dataset_from_directory(\n",
    "    'Group_24/test/',\n",
    "    labels='inferred',\n",
    "    label_mode='int',\n",
    "    batch_size=1,\n",
    "    image_size=(28, 28),\n",
    "    shuffle=True,\n",
    "    seed=42,\n",
    "    color_mode='grayscale',\n",
    "    validation_split=0.0\n",
    ")\n",
    "\n",
    "def normalize(image,label):\n",
    "    image = tf.cast(image/255. ,tf.float32)\n",
    "    return image, label\n",
    "\n",
    "train = train.map(normalize)\n",
    "val = val.map(normalize)\n",
    "test = test.map(normalize)"
   ]
  },
  {
   "cell_type": "markdown",
   "metadata": {},
   "source": [
    "##### Flattening"
   ]
  },
  {
   "cell_type": "markdown",
   "metadata": {},
   "source": [
    "Preparing training tensors"
   ]
  },
  {
   "cell_type": "code",
   "execution_count": 3,
   "metadata": {},
   "outputs": [],
   "source": [
    "# Iterate through the dataset and reshape each image tensor\n",
    "image_tensors = []\n",
    "label_tensors = []\n",
    "for image, labels in train:\n",
    "    num_images = image.shape[0]\n",
    "    image_vectors = tf.reshape(image, [num_images, -1])\n",
    "    image_tensors.append(image_vectors)\n",
    "    label_tensors.append(labels)\n",
    "\n",
    "# Concatenate the image tensors into a single tensor\n",
    "train_vectors = [tf.concat(image_tensors, axis=0), tf.concat(label_tensors, axis=0)]"
   ]
  },
  {
   "cell_type": "markdown",
   "metadata": {},
   "source": [
    "Preparing validation tensors"
   ]
  },
  {
   "cell_type": "code",
   "execution_count": 4,
   "metadata": {},
   "outputs": [],
   "source": [
    "# Iterate through the dataset and reshape each image tensor\n",
    "image_tensors = []\n",
    "label_tensors = []\n",
    "for image, labels in val:\n",
    "    num_images = image.shape[0]\n",
    "    image_vectors = tf.reshape(image, [num_images, -1])\n",
    "    image_tensors.append(image_vectors)\n",
    "    label_tensors.append(labels)\n",
    "\n",
    "# Concatenate the image tensors into a single tensor\n",
    "val_vectors = [tf.concat(image_tensors, axis=0), tf.concat(label_tensors, axis=0)]"
   ]
  },
  {
   "cell_type": "markdown",
   "metadata": {},
   "source": [
    "Preparing testing tensors"
   ]
  },
  {
   "cell_type": "code",
   "execution_count": 5,
   "metadata": {},
   "outputs": [],
   "source": [
    "# Iterate through the dataset and reshape each image tensor\n",
    "image_tensors = []\n",
    "label_tensors = []\n",
    "for image, labels in test:\n",
    "    num_images = image.shape[0]\n",
    "    image_vectors = tf.reshape(image, [num_images, -1])\n",
    "    image_tensors.append(image_vectors)\n",
    "    label_tensors.append(labels)\n",
    "\n",
    "# Concatenate the image tensors into a single tensor\n",
    "test_vectors = [tf.concat(image_tensors, axis=0), tf.concat(label_tensors, axis=0)]"
   ]
  },
  {
   "cell_type": "markdown",
   "metadata": {},
   "source": [
    "#### 20% noise autoencoder"
   ]
  },
  {
   "cell_type": "code",
   "execution_count": 8,
   "metadata": {},
   "outputs": [
    {
     "name": "stdout",
     "output_type": "stream",
     "text": [
      "Training a 20 percent denoising autoencoder with 256 neurons in bottleneck layer\n"
     ]
    },
    {
     "name": "stderr",
     "output_type": "stream",
     "text": [
      "\n",
      "KeyboardInterrupt\n",
      "\n"
     ]
    }
   ],
   "source": [
    "print(\"Training a 20 percent denoising autoencoder with 256 neurons in bottleneck layer\")\n",
    "inputs = tf.keras.layers.Input(shape=(784,))\n",
    "hidden_layer = tf.keras.layers.Dense(\n",
    "    units=256, activation=tf.nn.tanh)(inputs)\n",
    "outputs = tf.keras.layers.Dense(units=784, activation=tf.nn.relu)(hidden_layer)\n",
    "autoencoder = tf.keras.models.Model(inputs=inputs, outputs=outputs)\n",
    "\n",
    "# Define the loss function as the squared difference between the output and original input\n",
    "\n",
    "\n",
    "def custom_loss(y_true, y_pred):\n",
    "    return tf.reduce_mean(tf.square(y_true - y_pred))\n",
    "\n",
    "\n",
    "adam_optimizer = Adam(learning_rate=0.001, beta_1=0.9,\n",
    "                      beta_2=0.999, epsilon=1e-8)\n",
    "autoencoder.compile(optimizer=adam_optimizer, loss=custom_loss,  metrics=['mse'])\n",
    "\n",
    "# Define the noise function that adds noise to the input data\n",
    "\n",
    "\n",
    "def add_noise(inputs, noise_probability):\n",
    "    mask = np.random.binomial(n=1, p=noise_probability, size=inputs.shape)\n",
    "    noise = np.random.normal(size=inputs.shape)\n",
    "    noisy_inputs = inputs * (1 - mask) + noise * mask\n",
    "    return noisy_inputs\n",
    "\n",
    "\n",
    "early_stop = tf.keras.callbacks.EarlyStopping(\n",
    "    monitor='val_loss', min_delta=1e-4,patience=5, verbose=0, restore_best_weights=True)\n",
    "tensorboard_callback = TensorBoard(\n",
    "    log_dir=f'./logdir/Q55/Denoising_20per_256_neurons/')\n",
    "\n",
    "for epoch in range(1000):\n",
    "    # print('Epoch:', epoch+1)\n",
    "    epoch += 1\n",
    "    noisy_train_data = add_noise(train_vectors[0].numpy(), 0.2)\n",
    "    model_fit = autoencoder.fit(noisy_train_data, train_vectors[0].numpy(), batch_size=len(train_vectors[0].numpy()), epochs=1, validation_split=0.0, validation_data=(\n",
    "        val_vectors[0].numpy(), val_vectors[0].numpy()), callbacks=[early_stop, tensorboard_callback], verbose=0, shuffle=True, validation_batch_size=None)\n",
    "\n",
    "hist_metric = 'mse'\n",
    "print(\n",
    "    f'epochs: {len(model_fit.history[hist_metric])}, mse: {model_fit.history[hist_metric][-1]}\\n')\n",
    "autoencoder.save(f'models/Q55/Denoising_20per_256_neurons.tf')\n"
   ]
  },
  {
   "cell_type": "code",
   "execution_count": null,
   "metadata": {},
   "outputs": [],
   "source": [
    "print(\"Training a 40 percent denoising autoencoder with 256 neurons in bottleneck layer\")\n",
    "inputs = tf.keras.layers.Input(shape=(784,))\n",
    "hidden_layer = tf.keras.layers.Dense(\n",
    "    units=256, activation=tf.nn.tanh)(inputs)\n",
    "outputs = tf.keras.layers.Dense(units=784, activation=tf.nn.relu)(hidden_layer)\n",
    "autoencoder = tf.keras.models.Model(inputs=inputs, outputs=outputs)\n",
    "\n",
    "# Define the loss function as the squared difference between the output and original input\n",
    "\n",
    "\n",
    "def custom_loss(y_true, y_pred):\n",
    "    return tf.reduce_mean(tf.square(y_true - y_pred))\n",
    "\n",
    "\n",
    "adam_optimizer = Adam(learning_rate=0.001, beta_1=0.9,\n",
    "                      beta_2=0.999, epsilon=1e-8)\n",
    "autoencoder.compile(optimizer=adam_optimizer, loss=custom_loss,  metrics=['mse'])\n",
    "\n",
    "# Define the noise function that adds noise to the input data\n",
    "\n",
    "\n",
    "def add_noise(inputs, noise_probability):\n",
    "    mask = np.random.binomial(n=1, p=noise_probability, size=inputs.shape)\n",
    "    noise = np.random.normal(size=inputs.shape)\n",
    "    noisy_inputs = inputs * (1 - mask) + noise * mask\n",
    "    return noisy_inputs\n",
    "\n",
    "\n",
    "early_stop = tf.keras.callbacks.EarlyStopping(\n",
    "    monitor='val_loss', min_delta=1e-4,patience=5, verbose=0, restore_best_weights=True)\n",
    "tensorboard_callback = TensorBoard(\n",
    "    log_dir=f'./logdir/Q55/Denoising_40per_256_neurons/')\n",
    "\n",
    "for epoch in range(1000):\n",
    "    # print('Epoch:', epoch+1)\n",
    "    epoch += 1\n",
    "    noisy_train_data = add_noise(train_vectors[0].numpy(), 0.4)\n",
    "    model_fit = autoencoder.fit(noisy_train_data, train_vectors[0].numpy(), batch_size=len(train_vectors[0].numpy()), epochs=1, validation_split=0.0, validation_data=(\n",
    "        val_vectors[0].numpy(), val_vectors[0].numpy()), callbacks=[early_stop, tensorboard_callback], verbose=0, shuffle=True, validation_batch_size=None)\n",
    "\n",
    "hist_metric = 'mse'\n",
    "print(\n",
    "    f'epochs: {len(model_fit.history[hist_metric])}, mse: {model_fit.history[hist_metric][-1]}\\n')\n",
    "autoencoder.save(f'models/Q55/Denoising_40per_256_neurons.tf')"
   ]
  },
  {
   "cell_type": "code",
   "execution_count": 7,
   "metadata": {},
   "outputs": [],
   "source": [
    "def custom_loss(y_true, y_pred):\n",
    "    return tf.reduce_mean(tf.square(y_true - y_pred))"
   ]
  },
  {
   "cell_type": "code",
   "execution_count": 8,
   "metadata": {},
   "outputs": [
    {
     "name": "stdout",
     "output_type": "stream",
     "text": [
      "356/356 [==============================] - 1s 1ms/step - loss: 0.0163 - mse: 0.0163\n",
      "119/119 [==============================] - 0s 1ms/step - loss: 0.0166 - mse: 0.0166\n",
      "119/119 [==============================] - 0s 1ms/step - loss: 0.0168 - mse: 0.0168\n"
     ]
    },
    {
     "data": {
      "text/plain": [
       "[0.016809437423944473, 0.016809437423944473]"
      ]
     },
     "execution_count": 8,
     "metadata": {},
     "output_type": "execute_result"
    }
   ],
   "source": [
    "mpath = (f'models/Q5/Denoising_20per_256_neurons.tf')\n",
    "momo = tf.keras.models.load_model(mpath, custom_objects={'custom_loss': custom_loss})\n",
    "\n",
    "momo.evaluate(train_vectors[0].numpy(),train_vectors[0].numpy())\n",
    "momo.evaluate(val_vectors[0].numpy(),val_vectors[0].numpy())\n",
    "momo.evaluate(test_vectors[0].numpy(),test_vectors[0].numpy())\n"
   ]
  },
  {
   "cell_type": "code",
   "execution_count": 9,
   "metadata": {},
   "outputs": [
    {
     "name": "stdout",
     "output_type": "stream",
     "text": [
      "356/356 [==============================] - 1s 1ms/step - loss: 0.0261 - mse: 0.0261\n",
      "119/119 [==============================] - 0s 1ms/step - loss: 0.0264 - mse: 0.0264\n",
      "119/119 [==============================] - 0s 1ms/step - loss: 0.0266 - mse: 0.0266\n"
     ]
    },
    {
     "data": {
      "text/plain": [
       "[0.026575680822134018, 0.026575682684779167]"
      ]
     },
     "execution_count": 9,
     "metadata": {},
     "output_type": "execute_result"
    }
   ],
   "source": [
    "mpath = (f'models/Q5/Denoising_40per_256_neurons.tf')\n",
    "momo = tf.keras.models.load_model(mpath, custom_objects={'custom_loss': custom_loss})\n",
    "\n",
    "momo.evaluate(train_vectors[0].numpy(),train_vectors[0].numpy())\n",
    "momo.evaluate(val_vectors[0].numpy(),val_vectors[0].numpy())\n",
    "momo.evaluate(test_vectors[0].numpy(),test_vectors[0].numpy())"
   ]
  },
  {
   "cell_type": "markdown",
   "metadata": {},
   "source": [
    "##### Displaying reconstructed image for training data"
   ]
  },
  {
   "cell_type": "code",
   "execution_count": 31,
   "metadata": {},
   "outputs": [
    {
     "name": "stdout",
     "output_type": "stream",
     "text": [
      "1/1 [==============================] - 0s 37ms/step\n",
      "1/1 [==============================] - 0s 40ms/step\n"
     ]
    },
    {
     "data": {
      "text/plain": [
       "Text(0.5, 1.0, '40% noise')"
      ]
     },
     "execution_count": 31,
     "metadata": {},
     "output_type": "execute_result"
    },
    {
     "data": {
      "image/png": "[encoded data removed]",
      "text/plain": [
       "<Figure size 1440x720 with 3 Axes>"
      ]
     },
     "metadata": {
      "needs_background": "light"
     },
     "output_type": "display_data"
    }
   ],
   "source": [
    "fig = plt.figure(figsize=(20, 10))\n",
    "ax = fig.add_subplot(1, 7, 1)\n",
    "ax.imshow(train_vectors[0].numpy()[0].reshape(28,28))\n",
    "ax.set_title(f'original', fontdict = {'fontsize':14}, )\n",
    "\n",
    "model = f\"Denoising_20per_256_neurons.tf\"\n",
    "model_path = os.path.join('.\\models\\Q5', model)\n",
    "trained_model = tf.keras.models.load_model(model_path, custom_objects={'custom_loss': custom_loss})\n",
    "predictions = trained_model.predict(train_vectors[0].numpy()[0].reshape(1,784))\n",
    "ax = fig.add_subplot(1, 7, 2)\n",
    "ax.imshow(predictions.reshape(28,28))\n",
    "ax.set_title(f'20% noise', fontdict = {'fontsize':14}, )\n",
    "\n",
    "model = f\"Denoising_40per_256_neurons.tf\"\n",
    "model_path = os.path.join('.\\models\\Q5', model)\n",
    "trained_model = tf.keras.models.load_model(model_path, custom_objects={'custom_loss': custom_loss})\n",
    "predictions = trained_model.predict(train_vectors[0].numpy()[0].reshape(1,784))\n",
    "ax = fig.add_subplot(1, 7, 3)\n",
    "ax.imshow(predictions.reshape(28,28))\n",
    "ax.set_title(f'40% noise', fontdict = {'fontsize':14}, )"
   ]
  },
  {
   "cell_type": "code",
   "execution_count": 32,
   "metadata": {},
   "outputs": [
    {
     "name": "stdout",
     "output_type": "stream",
     "text": [
      "1/1 [==============================] - 0s 38ms/step\n",
      "1/1 [==============================] - 0s 38ms/step\n"
     ]
    },
    {
     "data": {
      "text/plain": [
       "Text(0.5, 1.0, '40% noise')"
      ]
     },
     "execution_count": 32,
     "metadata": {},
     "output_type": "execute_result"
    },
    {
     "data": {
      "image/png": "[encoded data removed]",
      "text/plain": [
       "<Figure size 1440x720 with 3 Axes>"
      ]
     },
     "metadata": {
      "needs_background": "light"
     },
     "output_type": "display_data"
    }
   ],
   "source": [
    "fig = plt.figure(figsize=(20, 10))\n",
    "ax = fig.add_subplot(1, 7, 1)\n",
    "ax.imshow(train_vectors[0].numpy()[1].reshape(28,28))\n",
    "ax.set_title(f'original', fontdict = {'fontsize':14}, )\n",
    "\n",
    "model = f\"Denoising_20per_256_neurons.tf\"\n",
    "model_path = os.path.join('.\\models\\Q5', model)\n",
    "trained_model = tf.keras.models.load_model(model_path, custom_objects={'custom_loss': custom_loss})\n",
    "predictions = trained_model.predict(train_vectors[0].numpy()[1].reshape(1,784))\n",
    "ax = fig.add_subplot(1, 7, 2)\n",
    "ax.imshow(predictions.reshape(28,28))\n",
    "ax.set_title(f'20% noise', fontdict = {'fontsize':14}, )\n",
    "\n",
    "model = f\"Denoising_40per_256_neurons.tf\"\n",
    "model_path = os.path.join('.\\models\\Q5', model)\n",
    "trained_model = tf.keras.models.load_model(model_path, custom_objects={'custom_loss': custom_loss})\n",
    "predictions = trained_model.predict(train_vectors[0].numpy()[1].reshape(1,784))\n",
    "ax = fig.add_subplot(1, 7, 3)\n",
    "ax.imshow(predictions.reshape(28,28))\n",
    "ax.set_title(f'40% noise', fontdict = {'fontsize':14}, )"
   ]
  },
  {
   "cell_type": "code",
   "execution_count": 33,
   "metadata": {},
   "outputs": [
    {
     "name": "stdout",
     "output_type": "stream",
     "text": [
      "1/1 [==============================] - 0s 34ms/step\n",
      "1/1 [==============================] - 0s 35ms/step\n"
     ]
    },
    {
     "data": {
      "text/plain": [
       "Text(0.5, 1.0, '40% noise')"
      ]
     },
     "execution_count": 33,
     "metadata": {},
     "output_type": "execute_result"
    },
    {
     "data": {
      "image/png": "[encoded data removed]",
      "text/plain": [
       "<Figure size 1440x720 with 3 Axes>"
      ]
     },
     "metadata": {
      "needs_background": "light"
     },
     "output_type": "display_data"
    }
   ],
   "source": [
    "fig = plt.figure(figsize=(20, 10))\n",
    "ax = fig.add_subplot(1, 7, 1)\n",
    "ax.imshow(train_vectors[0].numpy()[111].reshape(28,28))\n",
    "ax.set_title(f'original', fontdict = {'fontsize':14}, )\n",
    "\n",
    "model = f\"Denoising_20per_256_neurons.tf\"\n",
    "model_path = os.path.join('.\\models\\Q5', model)\n",
    "trained_model = tf.keras.models.load_model(model_path, custom_objects={'custom_loss': custom_loss})\n",
    "predictions = trained_model.predict(train_vectors[0].numpy()[111].reshape(1,784))\n",
    "ax = fig.add_subplot(1, 7, 2)\n",
    "ax.imshow(predictions.reshape(28,28))\n",
    "ax.set_title(f'20% noise', fontdict = {'fontsize':14}, )\n",
    "\n",
    "model = f\"Denoising_40per_256_neurons.tf\"\n",
    "model_path = os.path.join('.\\models\\Q5', model)\n",
    "trained_model = tf.keras.models.load_model(model_path, custom_objects={'custom_loss': custom_loss})\n",
    "predictions = trained_model.predict(train_vectors[0].numpy()[111].reshape(1,784))\n",
    "ax = fig.add_subplot(1, 7, 3)\n",
    "ax.imshow(predictions.reshape(28,28))\n",
    "ax.set_title(f'40% noise', fontdict = {'fontsize':14}, )"
   ]
  },
  {
   "cell_type": "code",
   "execution_count": 34,
   "metadata": {},
   "outputs": [
    {
     "name": "stdout",
     "output_type": "stream",
     "text": [
      "1/1 [==============================] - 0s 32ms/step\n",
      "1/1 [==============================] - 0s 35ms/step\n"
     ]
    },
    {
     "data": {
      "text/plain": [
       "Text(0.5, 1.0, '40% noise')"
      ]
     },
     "execution_count": 34,
     "metadata": {},
     "output_type": "execute_result"
    },
    {
     "data": {
      "image/png": "[encoded data removed]",
      "text/plain": [
       "<Figure size 1440x720 with 3 Axes>"
      ]
     },
     "metadata": {
      "needs_background": "light"
     },
     "output_type": "display_data"
    }
   ],
   "source": [
    "fig = plt.figure(figsize=(20, 10))\n",
    "ax = fig.add_subplot(1, 7, 1)\n",
    "ax.imshow(train_vectors[0].numpy()[222].reshape(28,28))\n",
    "ax.set_title(f'original', fontdict = {'fontsize':14}, )\n",
    "\n",
    "model = f\"Denoising_20per_256_neurons.tf\"\n",
    "model_path = os.path.join('.\\models\\Q5', model)\n",
    "trained_model = tf.keras.models.load_model(model_path, custom_objects={'custom_loss': custom_loss})\n",
    "predictions = trained_model.predict(train_vectors[0].numpy()[222].reshape(1,784))\n",
    "ax = fig.add_subplot(1, 7, 2)\n",
    "ax.imshow(predictions.reshape(28,28))\n",
    "ax.set_title(f'20% noise', fontdict = {'fontsize':14}, )\n",
    "\n",
    "model = f\"Denoising_40per_256_neurons.tf\"\n",
    "model_path = os.path.join('.\\models\\Q5', model)\n",
    "trained_model = tf.keras.models.load_model(model_path, custom_objects={'custom_loss': custom_loss})\n",
    "predictions = trained_model.predict(train_vectors[0].numpy()[222].reshape(1,784))\n",
    "ax = fig.add_subplot(1, 7, 3)\n",
    "ax.imshow(predictions.reshape(28,28))\n",
    "ax.set_title(f'40% noise', fontdict = {'fontsize':14}, )"
   ]
  },
  {
   "cell_type": "code",
   "execution_count": 35,
   "metadata": {},
   "outputs": [
    {
     "name": "stdout",
     "output_type": "stream",
     "text": [
      "1/1 [==============================] - 0s 34ms/step\n",
      "1/1 [==============================] - 0s 35ms/step\n"
     ]
    },
    {
     "data": {
      "text/plain": [
       "Text(0.5, 1.0, '40% noise')"
      ]
     },
     "execution_count": 35,
     "metadata": {},
     "output_type": "execute_result"
    },
    {
     "data": {
      "image/png": "[encoded data removed]",
      "text/plain": [
       "<Figure size 1440x720 with 3 Axes>"
      ]
     },
     "metadata": {
      "needs_background": "light"
     },
     "output_type": "display_data"
    }
   ],
   "source": [
    "fig = plt.figure(figsize=(20, 10))\n",
    "ax = fig.add_subplot(1, 7, 1)\n",
    "ax.imshow(train_vectors[0].numpy()[533].reshape(28,28))\n",
    "ax.set_title(f'original', fontdict = {'fontsize':14}, )\n",
    "\n",
    "model = f\"Denoising_20per_256_neurons.tf\"\n",
    "model_path = os.path.join('.\\models\\Q5', model)\n",
    "trained_model = tf.keras.models.load_model(model_path, custom_objects={'custom_loss': custom_loss})\n",
    "predictions = trained_model.predict(train_vectors[0].numpy()[533].reshape(1,784))\n",
    "ax = fig.add_subplot(1, 7, 2)\n",
    "ax.imshow(predictions.reshape(28,28))\n",
    "ax.set_title(f'20% noise', fontdict = {'fontsize':14}, )\n",
    "\n",
    "model = f\"Denoising_40per_256_neurons.tf\"\n",
    "model_path = os.path.join('.\\models\\Q5', model)\n",
    "trained_model = tf.keras.models.load_model(model_path, custom_objects={'custom_loss': custom_loss})\n",
    "predictions = trained_model.predict(train_vectors[0].numpy()[533].reshape(1,784))\n",
    "ax = fig.add_subplot(1, 7, 3)\n",
    "ax.imshow(predictions.reshape(28,28))\n",
    "ax.set_title(f'40% noise', fontdict = {'fontsize':14}, )"
   ]
  },
  {
   "cell_type": "code",
   "execution_count": null,
   "metadata": {},
   "outputs": [],
   "source": []
  },
  {
   "cell_type": "code",
   "execution_count": 36,
   "metadata": {},
   "outputs": [
    {
     "name": "stdout",
     "output_type": "stream",
     "text": [
      "1/1 [==============================] - 0s 34ms/step\n",
      "1/1 [==============================] - 0s 34ms/step\n"
     ]
    },
    {
     "data": {
      "text/plain": [
       "Text(0.5, 1.0, '40% noise')"
      ]
     },
     "execution_count": 36,
     "metadata": {},
     "output_type": "execute_result"
    },
    {
     "data": {
      "image/png": "[encoded data removed]",
      "text/plain": [
       "<Figure size 1440x720 with 3 Axes>"
      ]
     },
     "metadata": {
      "needs_background": "light"
     },
     "output_type": "display_data"
    }
   ],
   "source": [
    "fig = plt.figure(figsize=(20, 10))\n",
    "ax = fig.add_subplot(1, 7, 1)\n",
    "ax.imshow(val_vectors[0].numpy()[0].reshape(28,28))\n",
    "ax.set_title(f'original', fontdict = {'fontsize':14}, )\n",
    "\n",
    "model = f\"Denoising_20per_256_neurons.tf\"\n",
    "model_path = os.path.join('.\\models\\Q5', model)\n",
    "trained_model = tf.keras.models.load_model(model_path, custom_objects={'custom_loss': custom_loss})\n",
    "predictions = trained_model.predict(val_vectors[0].numpy()[0].reshape(1,784))\n",
    "ax = fig.add_subplot(1, 7, 2)\n",
    "ax.imshow(predictions.reshape(28,28))\n",
    "ax.set_title(f'20% noise', fontdict = {'fontsize':14}, )\n",
    "\n",
    "model = f\"Denoising_40per_256_neurons.tf\"\n",
    "model_path = os.path.join('.\\models\\Q5', model)\n",
    "trained_model = tf.keras.models.load_model(model_path, custom_objects={'custom_loss': custom_loss})\n",
    "predictions = trained_model.predict(val_vectors[0].numpy()[0].reshape(1,784))\n",
    "ax = fig.add_subplot(1, 7, 3)\n",
    "ax.imshow(predictions.reshape(28,28))\n",
    "ax.set_title(f'40% noise', fontdict = {'fontsize':14}, )"
   ]
  },
  {
   "cell_type": "code",
   "execution_count": 37,
   "metadata": {
    "scrolled": true
   },
   "outputs": [
    {
     "name": "stdout",
     "output_type": "stream",
     "text": [
      "1/1 [==============================] - 0s 38ms/step\n",
      "1/1 [==============================] - 0s 39ms/step\n"
     ]
    },
    {
     "data": {
      "text/plain": [
       "Text(0.5, 1.0, '40% noise')"
      ]
     },
     "execution_count": 37,
     "metadata": {},
     "output_type": "execute_result"
    },
    {
     "data": {
      "image/png": "[encoded data removed]",
      "text/plain": [
       "<Figure size 1440x720 with 3 Axes>"
      ]
     },
     "metadata": {
      "needs_background": "light"
     },
     "output_type": "display_data"
    }
   ],
   "source": [
    "fig = plt.figure(figsize=(20, 10))\n",
    "ax = fig.add_subplot(1, 7, 1)\n",
    "ax.imshow(val_vectors[0].numpy()[1].reshape(28,28))\n",
    "ax.set_title(f'original', fontdict = {'fontsize':14}, )\n",
    "\n",
    "model = f\"Denoising_20per_256_neurons.tf\"\n",
    "model_path = os.path.join('.\\models\\Q5', model)\n",
    "trained_model = tf.keras.models.load_model(model_path, custom_objects={'custom_loss': custom_loss})\n",
    "predictions = trained_model.predict(val_vectors[0].numpy()[1].reshape(1,784))\n",
    "ax = fig.add_subplot(1, 7, 2)\n",
    "ax.imshow(predictions.reshape(28,28))\n",
    "ax.set_title(f'20% noise', fontdict = {'fontsize':14}, )\n",
    "\n",
    "model = f\"Denoising_40per_256_neurons.tf\"\n",
    "model_path = os.path.join('.\\models\\Q5', model)\n",
    "trained_model = tf.keras.models.load_model(model_path, custom_objects={'custom_loss': custom_loss})\n",
    "predictions = trained_model.predict(val_vectors[0].numpy()[1].reshape(1,784))\n",
    "ax = fig.add_subplot(1, 7, 3)\n",
    "ax.imshow(predictions.reshape(28,28))\n",
    "ax.set_title(f'40% noise', fontdict = {'fontsize':14}, )"
   ]
  },
  {
   "cell_type": "code",
   "execution_count": 38,
   "metadata": {},
   "outputs": [
    {
     "name": "stdout",
     "output_type": "stream",
     "text": [
      "1/1 [==============================] - 0s 34ms/step\n",
      "1/1 [==============================] - 0s 35ms/step\n"
     ]
    },
    {
     "data": {
      "text/plain": [
       "Text(0.5, 1.0, '40% noise')"
      ]
     },
     "execution_count": 38,
     "metadata": {},
     "output_type": "execute_result"
    },
    {
     "data": {
      "image/png": "[encoded data removed]",
      "text/plain": [
       "<Figure size 1440x720 with 3 Axes>"
      ]
     },
     "metadata": {
      "needs_background": "light"
     },
     "output_type": "display_data"
    }
   ],
   "source": [
    "fig = plt.figure(figsize=(20, 10))\n",
    "ax = fig.add_subplot(1, 7, 1)\n",
    "ax.imshow(val_vectors[0].numpy()[2].reshape(28,28))\n",
    "ax.set_title(f'original', fontdict = {'fontsize':14}, )\n",
    "\n",
    "model = f\"Denoising_20per_256_neurons.tf\"\n",
    "model_path = os.path.join('.\\models\\Q5', model)\n",
    "trained_model = tf.keras.models.load_model(model_path, custom_objects={'custom_loss': custom_loss})\n",
    "predictions = trained_model.predict(val_vectors[0].numpy()[2].reshape(1,784))\n",
    "ax = fig.add_subplot(1, 7, 2)\n",
    "ax.imshow(predictions.reshape(28,28))\n",
    "ax.set_title(f'20% noise', fontdict = {'fontsize':14}, )\n",
    "\n",
    "model = f\"Denoising_40per_256_neurons.tf\"\n",
    "model_path = os.path.join('.\\models\\Q5', model)\n",
    "trained_model = tf.keras.models.load_model(model_path, custom_objects={'custom_loss': custom_loss})\n",
    "predictions = trained_model.predict(val_vectors[0].numpy()[2].reshape(1,784))\n",
    "ax = fig.add_subplot(1, 7, 3)\n",
    "ax.imshow(predictions.reshape(28,28))\n",
    "ax.set_title(f'40% noise', fontdict = {'fontsize':14}, )"
   ]
  },
  {
   "cell_type": "code",
   "execution_count": 41,
   "metadata": {},
   "outputs": [
    {
     "name": "stdout",
     "output_type": "stream",
     "text": [
      "1/1 [==============================] - 0s 34ms/step\n",
      "1/1 [==============================] - 0s 34ms/step\n"
     ]
    },
    {
     "data": {
      "text/plain": [
       "Text(0.5, 1.0, '40% noise')"
      ]
     },
     "execution_count": 41,
     "metadata": {},
     "output_type": "execute_result"
    },
    {
     "data": {
      "image/png": "[encoded data removed]",
      "text/plain": [
       "<Figure size 1440x720 with 3 Axes>"
      ]
     },
     "metadata": {
      "needs_background": "light"
     },
     "output_type": "display_data"
    }
   ],
   "source": [
    "fig = plt.figure(figsize=(20, 10))\n",
    "ax = fig.add_subplot(1, 7, 1)\n",
    "ax.imshow(val_vectors[0].numpy()[6].reshape(28,28))\n",
    "ax.set_title(f'original', fontdict = {'fontsize':14}, )\n",
    "\n",
    "model = f\"Denoising_20per_256_neurons.tf\"\n",
    "model_path = os.path.join('.\\models\\Q5', model)\n",
    "trained_model = tf.keras.models.load_model(model_path, custom_objects={'custom_loss': custom_loss})\n",
    "predictions = trained_model.predict(val_vectors[0].numpy()[6].reshape(1,784))\n",
    "ax = fig.add_subplot(1, 7, 2)\n",
    "ax.imshow(predictions.reshape(28,28))\n",
    "ax.set_title(f'20% noise', fontdict = {'fontsize':14}, )\n",
    "\n",
    "model = f\"Denoising_40per_256_neurons.tf\"\n",
    "model_path = os.path.join('.\\models\\Q5', model)\n",
    "trained_model = tf.keras.models.load_model(model_path, custom_objects={'custom_loss': custom_loss})\n",
    "predictions = trained_model.predict(val_vectors[0].numpy()[6].reshape(1,784))\n",
    "ax = fig.add_subplot(1, 7, 3)\n",
    "ax.imshow(predictions.reshape(28,28))\n",
    "ax.set_title(f'40% noise', fontdict = {'fontsize':14}, )"
   ]
  },
  {
   "cell_type": "code",
   "execution_count": 45,
   "metadata": {},
   "outputs": [
    {
     "name": "stdout",
     "output_type": "stream",
     "text": [
      "1/1 [==============================] - 0s 33ms/step\n",
      "1/1 [==============================] - 0s 33ms/step\n"
     ]
    },
    {
     "data": {
      "text/plain": [
       "Text(0.5, 1.0, '40% noise')"
      ]
     },
     "execution_count": 45,
     "metadata": {},
     "output_type": "execute_result"
    },
    {
     "data": {
      "image/png": "[encoded data removed]",
      "text/plain": [
       "<Figure size 1440x720 with 3 Axes>"
      ]
     },
     "metadata": {
      "needs_background": "light"
     },
     "output_type": "display_data"
    }
   ],
   "source": [
    "fig = plt.figure(figsize=(20, 10))\n",
    "ax = fig.add_subplot(1, 7, 1)\n",
    "ax.imshow(val_vectors[0].numpy()[87].reshape(28,28))\n",
    "ax.set_title(f'original', fontdict = {'fontsize':14}, )\n",
    "\n",
    "model = f\"Denoising_20per_256_neurons.tf\"\n",
    "model_path = os.path.join('.\\models\\Q5', model)\n",
    "trained_model = tf.keras.models.load_model(model_path, custom_objects={'custom_loss': custom_loss})\n",
    "predictions = trained_model.predict(val_vectors[0].numpy()[87].reshape(1,784))\n",
    "ax = fig.add_subplot(1, 7, 2)\n",
    "ax.imshow(predictions.reshape(28,28))\n",
    "ax.set_title(f'20% noise', fontdict = {'fontsize':14}, )\n",
    "\n",
    "model = f\"Denoising_40per_256_neurons.tf\"\n",
    "model_path = os.path.join('.\\models\\Q5', model)\n",
    "trained_model = tf.keras.models.load_model(model_path, custom_objects={'custom_loss': custom_loss})\n",
    "predictions = trained_model.predict(val_vectors[0].numpy()[87].reshape(1,784))\n",
    "ax = fig.add_subplot(1, 7, 3)\n",
    "ax.imshow(predictions.reshape(28,28))\n",
    "ax.set_title(f'40% noise', fontdict = {'fontsize':14}, )"
   ]
  },
  {
   "cell_type": "code",
   "execution_count": null,
   "metadata": {},
   "outputs": [],
   "source": []
  },
  {
   "cell_type": "code",
   "execution_count": null,
   "metadata": {},
   "outputs": [],
   "source": []
  },
  {
   "cell_type": "code",
   "execution_count": null,
   "metadata": {},
   "outputs": [],
   "source": []
  },
  {
   "cell_type": "code",
   "execution_count": 46,
   "metadata": {},
   "outputs": [
    {
     "name": "stdout",
     "output_type": "stream",
     "text": [
      "1/1 [==============================] - 0s 37ms/step\n",
      "1/1 [==============================] - 0s 34ms/step\n"
     ]
    },
    {
     "data": {
      "text/plain": [
       "Text(0.5, 1.0, '40% noise')"
      ]
     },
     "execution_count": 46,
     "metadata": {},
     "output_type": "execute_result"
    },
    {
     "data": {
      "image/png": "[encoded data removed]",
      "text/plain": [
       "<Figure size 1440x720 with 3 Axes>"
      ]
     },
     "metadata": {
      "needs_background": "light"
     },
     "output_type": "display_data"
    }
   ],
   "source": [
    "fig = plt.figure(figsize=(20, 10))\n",
    "ax = fig.add_subplot(1, 7, 1)\n",
    "ax.imshow(test_vectors[0].numpy()[87].reshape(28,28))\n",
    "ax.set_title(f'original', fontdict = {'fontsize':14}, )\n",
    "\n",
    "model = f\"Denoising_20per_256_neurons.tf\"\n",
    "model_path = os.path.join('.\\models\\Q5', model)\n",
    "trained_model = tf.keras.models.load_model(model_path, custom_objects={'custom_loss': custom_loss})\n",
    "predictions = trained_model.predict(test_vectors[0].numpy()[87].reshape(1,784))\n",
    "ax = fig.add_subplot(1, 7, 2)\n",
    "ax.imshow(predictions.reshape(28,28))\n",
    "ax.set_title(f'20% noise', fontdict = {'fontsize':14}, )\n",
    "\n",
    "model = f\"Denoising_40per_256_neurons.tf\"\n",
    "model_path = os.path.join('.\\models\\Q5', model)\n",
    "trained_model = tf.keras.models.load_model(model_path, custom_objects={'custom_loss': custom_loss})\n",
    "predictions = trained_model.predict(test_vectors[0].numpy()[87].reshape(1,784))\n",
    "ax = fig.add_subplot(1, 7, 3)\n",
    "ax.imshow(predictions.reshape(28,28))\n",
    "ax.set_title(f'40% noise', fontdict = {'fontsize':14}, )"
   ]
  },
  {
   "cell_type": "code",
   "execution_count": 47,
   "metadata": {},
   "outputs": [
    {
     "name": "stdout",
     "output_type": "stream",
     "text": [
      "1/1 [==============================] - 0s 32ms/step\n",
      "1/1 [==============================] - 0s 34ms/step\n"
     ]
    },
    {
     "data": {
      "text/plain": [
       "Text(0.5, 1.0, '40% noise')"
      ]
     },
     "execution_count": 47,
     "metadata": {},
     "output_type": "execute_result"
    },
    {
     "data": {
      "image/png": "[encoded data removed]",
      "text/plain": [
       "<Figure size 1440x720 with 3 Axes>"
      ]
     },
     "metadata": {
      "needs_background": "light"
     },
     "output_type": "display_data"
    }
   ],
   "source": [
    "fig = plt.figure(figsize=(20, 10))\n",
    "ax = fig.add_subplot(1, 7, 1)\n",
    "ax.imshow(test_vectors[0].numpy()[0].reshape(28,28))\n",
    "ax.set_title(f'original', fontdict = {'fontsize':14}, )\n",
    "\n",
    "model = f\"Denoising_20per_256_neurons.tf\"\n",
    "model_path = os.path.join('.\\models\\Q5', model)\n",
    "trained_model = tf.keras.models.load_model(model_path, custom_objects={'custom_loss': custom_loss})\n",
    "predictions = trained_model.predict(test_vectors[0].numpy()[0].reshape(1,784))\n",
    "ax = fig.add_subplot(1, 7, 2)\n",
    "ax.imshow(predictions.reshape(28,28))\n",
    "ax.set_title(f'20% noise', fontdict = {'fontsize':14}, )\n",
    "\n",
    "model = f\"Denoising_40per_256_neurons.tf\"\n",
    "model_path = os.path.join('.\\models\\Q5', model)\n",
    "trained_model = tf.keras.models.load_model(model_path, custom_objects={'custom_loss': custom_loss})\n",
    "predictions = trained_model.predict(test_vectors[0].numpy()[0].reshape(1,784))\n",
    "ax = fig.add_subplot(1, 7, 3)\n",
    "ax.imshow(predictions.reshape(28,28))\n",
    "ax.set_title(f'40% noise', fontdict = {'fontsize':14}, )"
   ]
  },
  {
   "cell_type": "code",
   "execution_count": 48,
   "metadata": {},
   "outputs": [
    {
     "name": "stdout",
     "output_type": "stream",
     "text": [
      "1/1 [==============================] - 0s 33ms/step\n",
      "1/1 [==============================] - 0s 34ms/step\n"
     ]
    },
    {
     "data": {
      "text/plain": [
       "Text(0.5, 1.0, '40% noise')"
      ]
     },
     "execution_count": 48,
     "metadata": {},
     "output_type": "execute_result"
    },
    {
     "data": {
      "image/png": "[encoded data removed]",
      "text/plain": [
       "<Figure size 1440x720 with 3 Axes>"
      ]
     },
     "metadata": {
      "needs_background": "light"
     },
     "output_type": "display_data"
    }
   ],
   "source": [
    "fig = plt.figure(figsize=(20, 10))\n",
    "ax = fig.add_subplot(1, 7, 1)\n",
    "ax.imshow(test_vectors[0].numpy()[1].reshape(28,28))\n",
    "ax.set_title(f'original', fontdict = {'fontsize':14}, )\n",
    "\n",
    "model = f\"Denoising_20per_256_neurons.tf\"\n",
    "model_path = os.path.join('.\\models\\Q5', model)\n",
    "trained_model = tf.keras.models.load_model(model_path, custom_objects={'custom_loss': custom_loss})\n",
    "predictions = trained_model.predict(test_vectors[0].numpy()[1].reshape(1,784))\n",
    "ax = fig.add_subplot(1, 7, 2)\n",
    "ax.imshow(predictions.reshape(28,28))\n",
    "ax.set_title(f'20% noise', fontdict = {'fontsize':14}, )\n",
    "\n",
    "model = f\"Denoising_40per_256_neurons.tf\"\n",
    "model_path = os.path.join('.\\models\\Q5', model)\n",
    "trained_model = tf.keras.models.load_model(model_path, custom_objects={'custom_loss': custom_loss})\n",
    "predictions = trained_model.predict(test_vectors[0].numpy()[1].reshape(1,784))\n",
    "ax = fig.add_subplot(1, 7, 3)\n",
    "ax.imshow(predictions.reshape(28,28))\n",
    "ax.set_title(f'40% noise', fontdict = {'fontsize':14}, )"
   ]
  },
  {
   "cell_type": "code",
   "execution_count": 49,
   "metadata": {},
   "outputs": [
    {
     "name": "stdout",
     "output_type": "stream",
     "text": [
      "1/1 [==============================] - 0s 34ms/step\n",
      "1/1 [==============================] - 0s 32ms/step\n"
     ]
    },
    {
     "data": {
      "text/plain": [
       "Text(0.5, 1.0, '40% noise')"
      ]
     },
     "execution_count": 49,
     "metadata": {},
     "output_type": "execute_result"
    },
    {
     "data": {
      "image/png": "[encoded data removed]",
      "text/plain": [
       "<Figure size 1440x720 with 3 Axes>"
      ]
     },
     "metadata": {
      "needs_background": "light"
     },
     "output_type": "display_data"
    }
   ],
   "source": [
    "fig = plt.figure(figsize=(20, 10))\n",
    "ax = fig.add_subplot(1, 7, 1)\n",
    "ax.imshow(test_vectors[0].numpy()[2].reshape(28,28))\n",
    "ax.set_title(f'original', fontdict = {'fontsize':14}, )\n",
    "\n",
    "model = f\"Denoising_20per_256_neurons.tf\"\n",
    "model_path = os.path.join('.\\models\\Q5', model)\n",
    "trained_model = tf.keras.models.load_model(model_path, custom_objects={'custom_loss': custom_loss})\n",
    "predictions = trained_model.predict(test_vectors[0].numpy()[2].reshape(1,784))\n",
    "ax = fig.add_subplot(1, 7, 2)\n",
    "ax.imshow(predictions.reshape(28,28))\n",
    "ax.set_title(f'20% noise', fontdict = {'fontsize':14}, )\n",
    "\n",
    "model = f\"Denoising_40per_256_neurons.tf\"\n",
    "model_path = os.path.join('.\\models\\Q5', model)\n",
    "trained_model = tf.keras.models.load_model(model_path, custom_objects={'custom_loss': custom_loss})\n",
    "predictions = trained_model.predict(test_vectors[0].numpy()[2].reshape(1,784))\n",
    "ax = fig.add_subplot(1, 7, 3)\n",
    "ax.imshow(predictions.reshape(28,28))\n",
    "ax.set_title(f'40% noise', fontdict = {'fontsize':14}, )"
   ]
  },
  {
   "cell_type": "code",
   "execution_count": 50,
   "metadata": {},
   "outputs": [
    {
     "name": "stdout",
     "output_type": "stream",
     "text": [
      "1/1 [==============================] - 0s 33ms/step\n",
      "1/1 [==============================] - 0s 34ms/step\n"
     ]
    },
    {
     "data": {
      "text/plain": [
       "Text(0.5, 1.0, '40% noise')"
      ]
     },
     "execution_count": 50,
     "metadata": {},
     "output_type": "execute_result"
    },
    {
     "data": {
      "image/png": "[encoded data removed]",
      "text/plain": [
       "<Figure size 1440x720 with 3 Axes>"
      ]
     },
     "metadata": {
      "needs_background": "light"
     },
     "output_type": "display_data"
    }
   ],
   "source": [
    "fig = plt.figure(figsize=(20, 10))\n",
    "ax = fig.add_subplot(1, 7, 1)\n",
    "ax.imshow(test_vectors[0].numpy()[6].reshape(28,28))\n",
    "ax.set_title(f'original', fontdict = {'fontsize':14}, )\n",
    "\n",
    "model = f\"Denoising_20per_256_neurons.tf\"\n",
    "model_path = os.path.join('.\\models\\Q5', model)\n",
    "trained_model = tf.keras.models.load_model(model_path, custom_objects={'custom_loss': custom_loss})\n",
    "predictions = trained_model.predict(test_vectors[0].numpy()[6].reshape(1,784))\n",
    "ax = fig.add_subplot(1, 7, 2)\n",
    "ax.imshow(predictions.reshape(28,28))\n",
    "ax.set_title(f'20% noise', fontdict = {'fontsize':14}, )\n",
    "\n",
    "model = f\"Denoising_40per_256_neurons.tf\"\n",
    "model_path = os.path.join('.\\models\\Q5', model)\n",
    "trained_model = tf.keras.models.load_model(model_path, custom_objects={'custom_loss': custom_loss})\n",
    "predictions = trained_model.predict(test_vectors[0].numpy()[6].reshape(1,784))\n",
    "ax = fig.add_subplot(1, 7, 3)\n",
    "ax.imshow(predictions.reshape(28,28))\n",
    "ax.set_title(f'40% noise', fontdict = {'fontsize':14}, )"
   ]
  },
  {
   "cell_type": "code",
   "execution_count": null,
   "metadata": {},
   "outputs": [],
   "source": []
  },
  {
   "cell_type": "code",
   "execution_count": 29,
   "metadata": {},
   "outputs": [
    {
     "name": "stdout",
     "output_type": "stream",
     "text": [
      "1/1 [==============================] - 0s 38ms/step\n"
     ]
    },
    {
     "data": {
      "image/png": "[encoded data removed]",
      "text/plain": [
       "<Figure size 1440x720 with 2 Axes>"
      ]
     },
     "metadata": {
      "needs_background": "light"
     },
     "output_type": "display_data"
    }
   ],
   "source": [
    "ct = 1\n",
    "fig = plt.figure(figsize=(20, 10))\n",
    "ax = fig.add_subplot(1, 7, ct)\n",
    "ax.imshow(train_vectors[0].numpy()[0].reshape(28,28))\n",
    "ax.set_title(f'original', fontdict = {'fontsize':14}, )\n",
    "ct+=1\n",
    "\n",
    "hneuron = [256]\n",
    "for n in hneuron:\n",
    "    # models = os.listdir('./models/Q1')\n",
    "    model = f\"Denoising_20per_{n}_neurons.tf\"\n",
    "    model_path = os.path.join('.\\models\\Q5', model)\n",
    "    #if(model[0]!='1') : break\n",
    "    # print(model)\n",
    "    \n",
    "    trained_model = tf.keras.models.load_model(model_path, custom_objects={'custom_loss': custom_loss})\n",
    "    predictions = trained_model.predict(train_vectors[0].numpy()[0].reshape(1,784))\n",
    "    \n",
    "    ax = fig.add_subplot(1, 7, ct)\n",
    "    ax.imshow(predictions.reshape(28,28))\n",
    "    ax.set_title(f'{n} neurons', fontdict = {'fontsize':14}, )\n",
    "    ct+=1\n",
    "\n",
    "plt.show()"
   ]
  },
  {
   "cell_type": "code",
   "execution_count": 30,
   "metadata": {},
   "outputs": [
    {
     "ename": "OSError",
     "evalue": "No file or directory found at .\\models\\Q5\\Denoising_20per_32_neurons.tf",
     "output_type": "error",
     "traceback": [
      "\u001b[1;31m---------------------------------------------------------------------------\u001b[0m",
      "\u001b[1;31mOSError\u001b[0m                                   Traceback (most recent call last)",
      "Input \u001b[1;32mIn [30]\u001b[0m, in \u001b[0;36m<module>\u001b[1;34m\u001b[0m\n\u001b[0;32m     12\u001b[0m model_path \u001b[38;5;241m=\u001b[39m os\u001b[38;5;241m.\u001b[39mpath\u001b[38;5;241m.\u001b[39mjoin(\u001b[38;5;124m'\u001b[39m\u001b[38;5;124m.\u001b[39m\u001b[38;5;124m\\\u001b[39m\u001b[38;5;124mmodels\u001b[39m\u001b[38;5;124m\\\u001b[39m\u001b[38;5;124mQ5\u001b[39m\u001b[38;5;124m'\u001b[39m, model)\n\u001b[0;32m     13\u001b[0m \u001b[38;5;66;03m#if(model[0]!='1') : break\u001b[39;00m\n\u001b[0;32m     14\u001b[0m \u001b[38;5;66;03m# print(model)\u001b[39;00m\n\u001b[1;32m---> 16\u001b[0m trained_model \u001b[38;5;241m=\u001b[39m \u001b[43mtf\u001b[49m\u001b[38;5;241;43m.\u001b[39;49m\u001b[43mkeras\u001b[49m\u001b[38;5;241;43m.\u001b[39;49m\u001b[43mmodels\u001b[49m\u001b[38;5;241;43m.\u001b[39;49m\u001b[43mload_model\u001b[49m\u001b[43m(\u001b[49m\u001b[43mmodel_path\u001b[49m\u001b[43m,\u001b[49m\u001b[43m \u001b[49m\u001b[43mcustom_objects\u001b[49m\u001b[38;5;241;43m=\u001b[39;49m\u001b[43m{\u001b[49m\u001b[38;5;124;43m'\u001b[39;49m\u001b[38;5;124;43mcustom_loss\u001b[39;49m\u001b[38;5;124;43m'\u001b[39;49m\u001b[43m:\u001b[49m\u001b[43m \u001b[49m\u001b[43mcustom_loss\u001b[49m\u001b[43m}\u001b[49m\u001b[43m)\u001b[49m\n\u001b[0;32m     17\u001b[0m predictions \u001b[38;5;241m=\u001b[39m trained_model\u001b[38;5;241m.\u001b[39mpredict(train_vectors[\u001b[38;5;241m0\u001b[39m]\u001b[38;5;241m.\u001b[39mnumpy()[\u001b[38;5;241m1\u001b[39m]\u001b[38;5;241m.\u001b[39mreshape(\u001b[38;5;241m1\u001b[39m,\u001b[38;5;241m784\u001b[39m))\n\u001b[0;32m     19\u001b[0m ax \u001b[38;5;241m=\u001b[39m fig\u001b[38;5;241m.\u001b[39madd_subplot(\u001b[38;5;241m1\u001b[39m, \u001b[38;5;241m7\u001b[39m, ct)\n",
      "File \u001b[1;32m~\\AppData\\Local\\Programs\\Python\\Python310\\lib\\site-packages\\keras\\utils\\traceback_utils.py:70\u001b[0m, in \u001b[0;36mfilter_traceback.<locals>.error_handler\u001b[1;34m(*args, **kwargs)\u001b[0m\n\u001b[0;32m     67\u001b[0m     filtered_tb \u001b[38;5;241m=\u001b[39m _process_traceback_frames(e\u001b[38;5;241m.\u001b[39m__traceback__)\n\u001b[0;32m     68\u001b[0m     \u001b[38;5;66;03m# To get the full stack trace, call:\u001b[39;00m\n\u001b[0;32m     69\u001b[0m     \u001b[38;5;66;03m# `tf.debugging.disable_traceback_filtering()`\u001b[39;00m\n\u001b[1;32m---> 70\u001b[0m     \u001b[38;5;28;01mraise\u001b[39;00m e\u001b[38;5;241m.\u001b[39mwith_traceback(filtered_tb) \u001b[38;5;28;01mfrom\u001b[39;00m \u001b[38;5;28mNone\u001b[39m\n\u001b[0;32m     71\u001b[0m \u001b[38;5;28;01mfinally\u001b[39;00m:\n\u001b[0;32m     72\u001b[0m     \u001b[38;5;28;01mdel\u001b[39;00m filtered_tb\n",
      "File \u001b[1;32m~\\AppData\\Local\\Programs\\Python\\Python310\\lib\\site-packages\\keras\\saving\\legacy\\save.py:227\u001b[0m, in \u001b[0;36mload_model\u001b[1;34m(filepath, custom_objects, compile, options)\u001b[0m\n\u001b[0;32m    225\u001b[0m \u001b[38;5;28;01mif\u001b[39;00m \u001b[38;5;28misinstance\u001b[39m(filepath_str, \u001b[38;5;28mstr\u001b[39m):\n\u001b[0;32m    226\u001b[0m     \u001b[38;5;28;01mif\u001b[39;00m \u001b[38;5;129;01mnot\u001b[39;00m tf\u001b[38;5;241m.\u001b[39mio\u001b[38;5;241m.\u001b[39mgfile\u001b[38;5;241m.\u001b[39mexists(filepath_str):\n\u001b[1;32m--> 227\u001b[0m         \u001b[38;5;28;01mraise\u001b[39;00m \u001b[38;5;167;01mIOError\u001b[39;00m(\n\u001b[0;32m    228\u001b[0m             \u001b[38;5;124mf\u001b[39m\u001b[38;5;124m\"\u001b[39m\u001b[38;5;124mNo file or directory found at \u001b[39m\u001b[38;5;132;01m{\u001b[39;00mfilepath_str\u001b[38;5;132;01m}\u001b[39;00m\u001b[38;5;124m\"\u001b[39m\n\u001b[0;32m    229\u001b[0m         )\n\u001b[0;32m    231\u001b[0m     \u001b[38;5;28;01mif\u001b[39;00m tf\u001b[38;5;241m.\u001b[39mio\u001b[38;5;241m.\u001b[39mgfile\u001b[38;5;241m.\u001b[39misdir(filepath_str):\n\u001b[0;32m    232\u001b[0m         \u001b[38;5;28;01mreturn\u001b[39;00m saved_model_load\u001b[38;5;241m.\u001b[39mload(\n\u001b[0;32m    233\u001b[0m             filepath_str, \u001b[38;5;28mcompile\u001b[39m, options\n\u001b[0;32m    234\u001b[0m         )\n",
      "\u001b[1;31mOSError\u001b[0m: No file or directory found at .\\models\\Q5\\Denoising_20per_32_neurons.tf"
     ]
    },
    {
     "data": {
      "image/png": "[encoded data removed]",
      "text/plain": [
       "<Figure size 1440x720 with 1 Axes>"
      ]
     },
     "metadata": {
      "needs_background": "light"
     },
     "output_type": "display_data"
    }
   ],
   "source": [
    "ct = 1\n",
    "fig = plt.figure(figsize=(20, 10))\n",
    "ax = fig.add_subplot(1, 7, ct)\n",
    "ax.imshow(train_vectors[0].numpy()[1].reshape(28,28))\n",
    "ax.set_title(f'original', fontdict = {'fontsize':14}, )\n",
    "ct+=1\n",
    "\n",
    "hneuron = [32]\n",
    "for n in hneuron:\n",
    "    # models = os.listdir('./models/Q1')\n",
    "    model = f\"Denoising_20per_{n}_neurons.tf\"\n",
    "    model_path = os.path.join('.\\models\\Q5', model)\n",
    "    #if(model[0]!='1') : break\n",
    "    # print(model)\n",
    "    \n",
    "    trained_model = tf.keras.models.load_model(model_path, custom_objects={'custom_loss': custom_loss})\n",
    "    predictions = trained_model.predict(train_vectors[0].numpy()[1].reshape(1,784))\n",
    "    \n",
    "    ax = fig.add_subplot(1, 7, ct)\n",
    "    ax.imshow(predictions.reshape(28,28))\n",
    "    ax.set_title(f'{n} neurons', fontdict = {'fontsize':14}, )\n",
    "    ct+=1\n",
    "\n",
    "plt.show()"
   ]
  },
  {
   "cell_type": "code",
   "execution_count": 20,
   "metadata": {},
   "outputs": [
    {
     "name": "stdout",
     "output_type": "stream",
     "text": [
      "1/1 [==============================] - 0s 34ms/step\n"
     ]
    },
    {
     "data": {
      "image/png": "[encoded data removed]",
      "text/plain": [
       "<Figure size 1440x720 with 2 Axes>"
      ]
     },
     "metadata": {
      "needs_background": "light"
     },
     "output_type": "display_data"
    }
   ],
   "source": [
    "ct = 1\n",
    "fig = plt.figure(figsize=(20, 10))\n",
    "ax = fig.add_subplot(1, 7, ct)\n",
    "ax.imshow(train_vectors[0].numpy()[111].reshape(28,28))\n",
    "ax.set_title(f'original', fontdict = {'fontsize':14}, )\n",
    "ct+=1\n",
    "\n",
    "hneuron = [32]\n",
    "for n in hneuron:\n",
    "    # models = os.listdir('./models/Q1')\n",
    "    model = f\"Denoising_20per_{n}_neurons.tf\"\n",
    "    model_path = os.path.join('.\\models\\Q55', model)\n",
    "    #if(model[0]!='1') : break\n",
    "    # print(model)\n",
    "    \n",
    "    trained_model = tf.keras.models.load_model(model_path, custom_objects={'custom_loss': custom_loss})\n",
    "    predictions = trained_model.predict(train_vectors[0].numpy()[111].reshape(1,784))\n",
    "    \n",
    "    ax = fig.add_subplot(1, 7, ct)\n",
    "    ax.imshow(predictions.reshape(28,28))\n",
    "    ax.set_title(f'{n} neurons', fontdict = {'fontsize':14}, )\n",
    "    ct+=1\n",
    "\n",
    "plt.show()"
   ]
  },
  {
   "cell_type": "code",
   "execution_count": 21,
   "metadata": {},
   "outputs": [
    {
     "name": "stdout",
     "output_type": "stream",
     "text": [
      "1/1 [==============================] - 0s 33ms/step\n"
     ]
    },
    {
     "data": {
      "image/png": "[encoded data removed]",
      "text/plain": [
       "<Figure size 1440x720 with 2 Axes>"
      ]
     },
     "metadata": {
      "needs_background": "light"
     },
     "output_type": "display_data"
    }
   ],
   "source": [
    "ct = 1\n",
    "fig = plt.figure(figsize=(20, 10))\n",
    "ax = fig.add_subplot(1, 7, ct)\n",
    "ax.imshow(train_vectors[0].numpy()[222].reshape(28,28))\n",
    "ax.set_title(f'original', fontdict = {'fontsize':14}, )\n",
    "ct+=1\n",
    "\n",
    "hneuron = [32]\n",
    "for n in hneuron:\n",
    "    # models = os.listdir('./models/Q1')\n",
    "    model = f\"Denoising_20per_{n}_neurons.tf\"\n",
    "    model_path = os.path.join('.\\models\\Q55', model)\n",
    "    #if(model[0]!='1') : break\n",
    "    # print(model)\n",
    "    \n",
    "    trained_model = tf.keras.models.load_model(model_path, custom_objects={'custom_loss': custom_loss})\n",
    "    predictions = trained_model.predict(train_vectors[0].numpy()[222].reshape(1,784))\n",
    "    \n",
    "    ax = fig.add_subplot(1, 7, ct)\n",
    "    ax.imshow(predictions.reshape(28,28))\n",
    "    ax.set_title(f'{n} neurons', fontdict = {'fontsize':14}, )\n",
    "    ct+=1\n",
    "\n",
    "plt.show()"
   ]
  },
  {
   "cell_type": "code",
   "execution_count": 22,
   "metadata": {},
   "outputs": [
    {
     "name": "stdout",
     "output_type": "stream",
     "text": [
      "1/1 [==============================] - 0s 34ms/step\n"
     ]
    },
    {
     "data": {
      "image/png": "[encoded data removed]",
      "text/plain": [
       "<Figure size 1440x720 with 2 Axes>"
      ]
     },
     "metadata": {
      "needs_background": "light"
     },
     "output_type": "display_data"
    }
   ],
   "source": [
    "ct = 1\n",
    "fig = plt.figure(figsize=(20, 10))\n",
    "ax = fig.add_subplot(1, 7, ct)\n",
    "ax.imshow(train_vectors[0].numpy()[533].reshape(28,28))\n",
    "ax.set_title(f'original', fontdict = {'fontsize':14}, )\n",
    "ct+=1\n",
    "\n",
    "hneuron = [32]\n",
    "for n in hneuron:\n",
    "    # models = os.listdir('./models/Q1')\n",
    "    model = f\"Denoising_20per_{n}_neurons.tf\"\n",
    "    model_path = os.path.join('.\\models\\Q55', model)\n",
    "    #if(model[0]!='1') : break\n",
    "    # print(model)\n",
    "    \n",
    "    trained_model = tf.keras.models.load_model(model_path, custom_objects={'custom_loss': custom_loss})\n",
    "    predictions = trained_model.predict(train_vectors[0].numpy()[533].reshape(1,784))\n",
    "    \n",
    "    ax = fig.add_subplot(1, 7, ct)\n",
    "    ax.imshow(predictions.reshape(28,28))\n",
    "    ax.set_title(f'{n} neurons', fontdict = {'fontsize':14}, )\n",
    "    ct+=1\n",
    "\n",
    "plt.show()"
   ]
  },
  {
   "cell_type": "code",
   "execution_count": 10,
   "metadata": {
    "scrolled": true
   },
   "outputs": [
    {
     "data": {
      "text/plain": [
       "<matplotlib.image.AxesImage at 0x1402eea8160>"
      ]
     },
     "execution_count": 10,
     "metadata": {},
     "output_type": "execute_result"
    },
    {
     "data": {
      "image/png": "[encoded data removed]",
      "text/plain": [
       "<Figure size 432x288 with 1 Axes>"
      ]
     },
     "metadata": {
      "needs_background": "light"
     },
     "output_type": "display_data"
    }
   ],
   "source": [
    "plt.imshow(train_vectors[0].numpy()[0].reshape(28,28))"
   ]
  },
  {
   "cell_type": "code",
   "execution_count": 11,
   "metadata": {},
   "outputs": [
    {
     "name": "stdout",
     "output_type": "stream",
     "text": [
      "1/1 [==============================] - 0s 144ms/step\n"
     ]
    },
    {
     "data": {
      "text/plain": [
       "<matplotlib.image.AxesImage at 0x1402c037a60>"
      ]
     },
     "execution_count": 11,
     "metadata": {},
     "output_type": "execute_result"
    },
    {
     "data": {
      "image/png": "[encoded data removed]",
      "text/plain": [
       "<Figure size 432x288 with 1 Axes>"
      ]
     },
     "metadata": {
      "needs_background": "light"
     },
     "output_type": "display_data"
    }
   ],
   "source": [
    "trained_model = tf.keras.models.load_model(\"models\\Q5\\Denoising_20per_32_neurons.tf\", custom_objects={'custom_loss': custom_loss})\n",
    "predictions = trained_model.predict(train_vectors[0].numpy()[0].reshape(1,784))\n",
    "plt.imshow(predictions.reshape(28,28))"
   ]
  },
  {
   "cell_type": "markdown",
   "metadata": {},
   "source": [
    "##### Displaying reconstructed images for validation data"
   ]
  },
  {
   "cell_type": "code",
   "execution_count": 33,
   "metadata": {},
   "outputs": [
    {
     "data": {
      "text/plain": [
       "<matplotlib.image.AxesImage at 0x1bb88ab2ee0>"
      ]
     },
     "execution_count": 33,
     "metadata": {},
     "output_type": "execute_result"
    },
    {
     "data": {
      "image/png": "[encoded data removed]",
      "text/plain": [
       "<Figure size 432x288 with 1 Axes>"
      ]
     },
     "metadata": {
      "needs_background": "light"
     },
     "output_type": "display_data"
    }
   ],
   "source": [
    "plt.imshow(val_vectors[0].numpy()[0].reshape(28,28))"
   ]
  },
  {
   "cell_type": "code",
   "execution_count": 34,
   "metadata": {},
   "outputs": [
    {
     "data": {
      "text/plain": [
       "<matplotlib.image.AxesImage at 0x1bb8234ed30>"
      ]
     },
     "execution_count": 34,
     "metadata": {},
     "output_type": "execute_result"
    },
    {
     "data": {
      "image/png": "[encoded data removed]",
      "text/plain": [
       "<Figure size 432x288 with 1 Axes>"
      ]
     },
     "metadata": {
      "needs_background": "light"
     },
     "output_type": "display_data"
    }
   ],
   "source": [
    "trained_model = tf.keras.models.load_model(\"models\\Q5\\Denoising_20per_32_neurons.tf\", custom_objects={'custom_loss': custom_loss})\n",
    "predictions = trained_model.predict(val_vectors[0].numpy()[0].reshape(1,784))\n",
    "plt.imshow(predictions.reshape(28,28))"
   ]
  },
  {
   "cell_type": "markdown",
   "metadata": {},
   "source": [
    "##### Displaying reconstructed images for testing data"
   ]
  },
  {
   "cell_type": "code",
   "execution_count": 35,
   "metadata": {},
   "outputs": [
    {
     "data": {
      "text/plain": [
       "<matplotlib.image.AxesImage at 0x1bb823b34c0>"
      ]
     },
     "execution_count": 35,
     "metadata": {},
     "output_type": "execute_result"
    },
    {
     "data": {
      "image/png": "[encoded data removed]",
      "text/plain": [
       "<Figure size 432x288 with 1 Axes>"
      ]
     },
     "metadata": {
      "needs_background": "light"
     },
     "output_type": "display_data"
    }
   ],
   "source": [
    "plt.imshow(test_vectors[0].numpy()[0].reshape(28,28))"
   ]
  },
  {
   "cell_type": "code",
   "execution_count": 36,
   "metadata": {},
   "outputs": [
    {
     "data": {
      "text/plain": [
       "<matplotlib.image.AxesImage at 0x1bb8271a400>"
      ]
     },
     "execution_count": 36,
     "metadata": {},
     "output_type": "execute_result"
    },
    {
     "data": {
      "image/png": "[encoded data removed]",
      "text/plain": [
       "<Figure size 432x288 with 1 Axes>"
      ]
     },
     "metadata": {
      "needs_background": "light"
     },
     "output_type": "display_data"
    }
   ],
   "source": [
    "trained_model = tf.keras.models.load_model(\"models\\Q5\\Denoising_20per_32_neurons.tf\", custom_objects={'custom_loss': custom_loss})\n",
    "predictions = trained_model.predict(test_vectors[0].numpy()[0].reshape(1,784))\n",
    "plt.imshow(predictions.reshape(28,28))"
   ]
  },
  {
   "cell_type": "markdown",
   "metadata": {},
   "source": [
    "#### 40% noise autoencoder"
   ]
  },
  {
   "cell_type": "code",
   "execution_count": 41,
   "metadata": {},
   "outputs": [
    {
     "name": "stdout",
     "output_type": "stream",
     "text": [
      "Training a 40 percent denoising autoencoder with 32 neurons in bottleneck layer\n",
      "epochs: 1, mse: 0.033603180199861526\n",
      "\n"
     ]
    }
   ],
   "source": [
    "print(\"Training a 40 percent denoising autoencoder with 32 neurons in bottleneck layer\")\n",
    "inputs = tf.keras.layers.Input(shape=(784,))\n",
    "hidden_layer = tf.keras.layers.Dense(\n",
    "    units=256, activation=tf.nn.sigmoid)(inputs)\n",
    "outputs = tf.keras.layers.Dense(units=784, activation=tf.nn.relu)(hidden_layer)\n",
    "autoencoder = tf.keras.models.Model(inputs=inputs, outputs=outputs)\n",
    "\n",
    "# Define the loss function as the squared difference between the output and original input\n",
    "\n",
    "\n",
    "def custom_loss(y_true, y_pred):\n",
    "    return tf.reduce_mean(tf.square(y_true - y_pred))\n",
    "\n",
    "\n",
    "adam_optimizer = Adam(learning_rate=0.001, beta_1=0.9,\n",
    "                      beta_2=0.999, epsilon=1e-8)\n",
    "autoencoder.compile(optimizer=adam_optimizer, loss=custom_loss,  metrics=['mse'])\n",
    "\n",
    "# Define the noise function that adds noise to the input data\n",
    "\n",
    "\n",
    "def add_noise(inputs, noise_probability):\n",
    "    mask = np.random.binomial(n=1, p=noise_probability, size=inputs.shape)\n",
    "    noise = np.random.normal(size=inputs.shape)\n",
    "    noisy_inputs = inputs * (1 - mask) + noise * mask\n",
    "    return noisy_inputs\n",
    "\n",
    "\n",
    "early_stop = tf.keras.callbacks.EarlyStopping(\n",
    "    monitor='val_loss', min_delta=1e-4,patience=5, verbose=0, restore_best_weights=True)\n",
    "tensorboard_callback = TensorBoard(\n",
    "    log_dir=f'./logdir/Q5/Denoising_40per_256_neurons/')\n",
    "\n",
    "for epoch in range(1000):\n",
    "    # print('Epoch:', epoch+1)\n",
    "    epoch += 1\n",
    "    noisy_train_data = add_noise(train_vectors[0].numpy(), 0.4)\n",
    "    model_fit = autoencoder.fit(noisy_train_data, train_vectors[0].numpy(), batch_size=len(train_vectors[0].numpy()), epochs=1, validation_split=0.0, validation_data=(\n",
    "        val_vectors[0].numpy(), val_vectors[0].numpy()), callbacks=[early_stop, tensorboard_callback], verbose=0, shuffle=True, validation_batch_size=None)\n",
    "\n",
    "hist_metric = 'mse'\n",
    "print(\n",
    "    f'epochs: {len(model_fit.history[hist_metric])}, mse: {model_fit.history[hist_metric][-1]}\\n')\n",
    "autoencoder.save(f'models/Q5/Denoising_40per_256_neurons.tf')\n"
   ]
  },
  {
   "cell_type": "markdown",
   "metadata": {},
   "source": [
    "##### Displaying reconstructed image for training data"
   ]
  },
  {
   "cell_type": "code",
   "execution_count": null,
   "metadata": {},
   "outputs": [
    {
     "data": {
      "text/plain": [
       "<matplotlib.image.AxesImage at 0x1bbc15a6370>"
      ]
     },
     "metadata": {},
     "output_type": "display_data"
    },
    {
     "data": {
      "image/png": "[encoded data removed]",
      "text/plain": [
       "<Figure size 432x288 with 1 Axes>"
      ]
     },
     "metadata": {},
     "output_type": "display_data"
    }
   ],
   "source": [
    "plt.imshow(train_vectors[0].numpy()[0].reshape(28,28))"
   ]
  },
  {
   "cell_type": "code",
   "execution_count": null,
   "metadata": {},
   "outputs": [
    {
     "data": {
      "text/plain": [
       "<matplotlib.image.AxesImage at 0x1bbc39f0e80>"
      ]
     },
     "metadata": {},
     "output_type": "display_data"
    },
    {
     "data": {
      "image/png": "[encoded data removed]",
      "text/plain": [
       "<Figure size 432x288 with 1 Axes>"
      ]
     },
     "metadata": {},
     "output_type": "display_data"
    }
   ],
   "source": [
    "trained_model = tf.keras.models.load_model(\"models\\Q5\\Denoising_40per_32_neurons.tf\", custom_objects={'custom_loss': custom_loss})\n",
    "predictions = trained_model.predict(train_vectors[0].numpy()[0].reshape(1,784))\n",
    "plt.imshow(predictions.reshape(28,28))"
   ]
  },
  {
   "cell_type": "markdown",
   "metadata": {},
   "source": [
    "##### Displaying reconstructed images for validation data"
   ]
  },
  {
   "cell_type": "code",
   "execution_count": null,
   "metadata": {},
   "outputs": [
    {
     "data": {
      "text/plain": [
       "<matplotlib.image.AxesImage at 0x1bb88ab2ee0>"
      ]
     },
     "metadata": {},
     "output_type": "display_data"
    },
    {
     "data": {
      "image/png": "[encoded data removed]",
      "text/plain": [
       "<Figure size 432x288 with 1 Axes>"
      ]
     },
     "metadata": {},
     "output_type": "display_data"
    }
   ],
   "source": [
    "plt.imshow(val_vectors[0].numpy()[0].reshape(28,28))"
   ]
  },
  {
   "cell_type": "code",
   "execution_count": null,
   "metadata": {},
   "outputs": [
    {
     "data": {
      "text/plain": [
       "<matplotlib.image.AxesImage at 0x1bb8234ed30>"
      ]
     },
     "metadata": {},
     "output_type": "display_data"
    },
    {
     "data": {
      "image/png": "[encoded data removed]",
      "text/plain": [
       "<Figure size 432x288 with 1 Axes>"
      ]
     },
     "metadata": {},
     "output_type": "display_data"
    }
   ],
   "source": [
    "trained_model = tf.keras.models.load_model(\"models\\Q5\\Denoising_40per_32_neurons.tf\", custom_objects={'custom_loss': custom_loss})\n",
    "predictions = trained_model.predict(val_vectors[0].numpy()[0].reshape(1,784))\n",
    "plt.imshow(predictions.reshape(28,28))"
   ]
  },
  {
   "cell_type": "markdown",
   "metadata": {},
   "source": [
    "##### Displaying reconstructed images for testing data"
   ]
  },
  {
   "cell_type": "code",
   "execution_count": null,
   "metadata": {},
   "outputs": [
    {
     "data": {
      "text/plain": [
       "<matplotlib.image.AxesImage at 0x1bb823b34c0>"
      ]
     },
     "metadata": {},
     "output_type": "display_data"
    },
    {
     "data": {
      "image/png": "[encoded data removed]",
      "text/plain": [
       "<Figure size 432x288 with 1 Axes>"
      ]
     },
     "metadata": {},
     "output_type": "display_data"
    }
   ],
   "source": [
    "plt.imshow(test_vectors[0].numpy()[0].reshape(28,28))"
   ]
  },
  {
   "cell_type": "code",
   "execution_count": null,
   "metadata": {},
   "outputs": [
    {
     "data": {
      "text/plain": [
       "<matplotlib.image.AxesImage at 0x1bb8271a400>"
      ]
     },
     "metadata": {},
     "output_type": "display_data"
    },
    {
     "data": {
      "image/png": "[encoded data removed]",
      "text/plain": [
       "<Figure size 432x288 with 1 Axes>"
      ]
     },
     "metadata": {},
     "output_type": "display_data"
    }
   ],
   "source": [
    "trained_model = tf.keras.models.load_model(\"models\\Q5\\Denoising_40per_32_neurons.tf\", custom_objects={'custom_loss': custom_loss})\n",
    "predictions = trained_model.predict(test_vectors[0].numpy()[0].reshape(1,784))\n",
    "plt.imshow(predictions.reshape(28,28))"
   ]
  },
  {
   "cell_type": "markdown",
   "metadata": {},
   "source": [
    "#### Making a classifier with the reduced representation"
   ]
  },
  {
   "cell_type": "code",
   "execution_count": 12,
   "metadata": {},
   "outputs": [],
   "source": [
    "def get_reduced_representation(noise, vec):\n",
    "    models = os.listdir('./models/Q5')\n",
    "    model_path = str\n",
    "    for model in models:\n",
    "        if( (str(noise)+\"per\") in model) : model_path = model\n",
    "    loaded_model = tf.keras.models.load_model(os.path.join('./models/Q5', model_path), custom_objects={'custom_loss': custom_loss})\n",
    "    hidden_layer_model = tf.keras.models.Model(inputs=loaded_model.input, outputs=loaded_model.layers[1].output)\n",
    "    hidden_output = hidden_layer_model.predict(vec[0].numpy().reshape(len(vec[0]),784))\n",
    "    return hidden_output"
   ]
  },
  {
   "cell_type": "markdown",
   "metadata": {},
   "source": [
    "##### 20 percent denoised reduced representation classification model"
   ]
  },
  {
   "cell_type": "code",
   "execution_count": 17,
   "metadata": {},
   "outputs": [
    {
     "name": "stdout",
     "output_type": "stream",
     "text": [
      "Training models with different architectures\n",
      "356/356 [==============================] - 0s 786us/step\n",
      "119/119 [==============================] - 0s 815us/step\n",
      "20 percent noise-96-64-32...\n",
      "epochs: 318, acc: 0.9986824989318848\n",
      "\n"
     ]
    },
    {
     "name": "stderr",
     "output_type": "stream",
     "text": [
      "WARNING:absl:Found untraced functions such as _update_step_xla while saving (showing 1 of 1). These functions will not be directly callable after loading.\n"
     ]
    },
    {
     "name": "stdout",
     "output_type": "stream",
     "text": [
      "20 percent noise-64-96-128...\n",
      "epochs: 191, acc: 0.9947299361228943\n",
      "\n"
     ]
    },
    {
     "name": "stderr",
     "output_type": "stream",
     "text": [
      "WARNING:absl:Found untraced functions such as _update_step_xla while saving (showing 1 of 1). These functions will not be directly callable after loading.\n"
     ]
    },
    {
     "name": "stdout",
     "output_type": "stream",
     "text": [
      "20 percent noise-128-96-64...\n",
      "epochs: 199, acc: 0.9961352944374084\n",
      "\n"
     ]
    },
    {
     "name": "stderr",
     "output_type": "stream",
     "text": [
      "WARNING:absl:Found untraced functions such as _update_step_xla while saving (showing 1 of 1). These functions will not be directly callable after loading.\n"
     ]
    },
    {
     "name": "stdout",
     "output_type": "stream",
     "text": [
      "20 percent noise-256-128-96...\n",
      "epochs: 102, acc: 0.9846289157867432\n",
      "\n"
     ]
    },
    {
     "name": "stderr",
     "output_type": "stream",
     "text": [
      "WARNING:absl:Found untraced functions such as _update_step_xla while saving (showing 1 of 1). These functions will not be directly callable after loading.\n"
     ]
    }
   ],
   "source": [
    "model_arch = [\n",
    "    [96, 64, 32],\n",
    "    [64, 96, 128],\n",
    "    [128, 96, 64],\n",
    "    [256, 128, 96]\n",
    "]\n",
    "initializer = initializers.RandomNormal(mean=0.0, stddev=0.05, seed=42)\n",
    "\n",
    "k=5 # no. of classes\n",
    "model_history = dict()\n",
    "\n",
    "# train different achitectures and optimizers\n",
    "print('Training models with different architectures')\n",
    "reduced_rep_train = get_reduced_representation(20, train_vectors)\n",
    "reduced_rep_val = get_reduced_representation(20, val_vectors)\n",
    "for layer_dims in model_arch:\n",
    "    print(f'20 percent noise-{layer_dims[0]}-{layer_dims[1]}-{layer_dims[2]}...')\n",
    "    # define model\n",
    "    model = Sequential([\n",
    "        layers.Dense(256, activation=\"relu\", input_shape=(256,)),\n",
    "        # keras.Input(input_shape=(reduced_dimension,)),\n",
    "        layers.Dense(layer_dims[0], activation=\"tanh\", name=\"layer1\", \n",
    "                        kernel_initializer=initializer, bias_initializer=initializers.Zeros()),\n",
    "        layers.Dense(layer_dims[1], activation=\"tanh\", name=\"layer2\", \n",
    "                        kernel_initializer=initializer, bias_initializer=initializers.Zeros()),\n",
    "        layers.Dense(layer_dims[2], activation=\"tanh\", name=\"layer3\", \n",
    "                        kernel_initializer=initializer, bias_initializer=initializers.Zeros()),\n",
    "        # layers.Dense(layer_dims[3], activation=\"sigmoid\", name=\"layer4\", \n",
    "        #              kernel_initializer=initializer, bias_initializer=initializers.Zeros()),\n",
    "        layers.Dense(k, activation=\"softmax\", name=\"output\", \n",
    "                        kernel_initializer=initializer, bias_initializer=initializers.Zeros()),\n",
    "    ])\n",
    "    \n",
    "    # compile model\n",
    "    adam_optimizer = Adam(learning_rate=0.001, beta_1=0.9, beta_2=0.999, epsilon=1e-8)\n",
    "    model.compile(optimizer=adam_optimizer, loss='sparse_categorical_crossentropy', metrics=['accuracy'])\n",
    "    \n",
    "    # callbacks\n",
    "    my_callbacks = [\n",
    "        EarlyStopping(monitor='val_loss', min_delta=1e-4, patience=5),\n",
    "        TensorBoard(log_dir=f'./logdir/Q5/classifier/20per-256-{layer_dims[0]}-{layer_dims[1]}-{layer_dims[2]}/')\n",
    "    ]\n",
    "    model_fit = model.fit(reduced_rep_train, train_vectors[1].numpy(), batch_size=len(train_vectors[0]), epochs=10000, verbose=0, callbacks=my_callbacks, \n",
    "                            validation_split=0.0, validation_data=(reduced_rep_val, val_vectors[1].numpy()), shuffle=True, validation_batch_size=None)\n",
    "    \n",
    "    hist_metric = 'accuracy'\n",
    "    print(f'epochs: {len(model_fit.history[hist_metric])}, acc: {model_fit.history[hist_metric][-1]}\\n')\n",
    "    model.save(f'models/Q5/classifier/20per-256-{layer_dims[0]}-{layer_dims[1]}-{layer_dims[2]}.tf')\n",
    "\n"
   ]
  },
  {
   "cell_type": "code",
   "execution_count": 18,
   "metadata": {},
   "outputs": [
    {
     "name": "stdout",
     "output_type": "stream",
     "text": [
      "356/356 [==============================] - 0s 1ms/step\n",
      "119/119 [==============================] - 0s 892us/step\n",
      "119/119 [==============================] - 0s 1ms/step\n",
      "20 percent noise-96-64-32...\n",
      "356/356 [==============================] - 0s 881us/step - loss: 0.0221 - accuracy: 0.9987\n",
      "119/119 [==============================] - 0s 926us/step - loss: 0.0629 - accuracy: 0.9845\n",
      "119/119 [==============================] - 0s 907us/step - loss: 0.0797 - accuracy: 0.9821\n",
      "20 percent noise-64-96-128...\n",
      "356/356 [==============================] - 0s 818us/step - loss: 0.0207 - accuracy: 0.9952\n",
      "119/119 [==============================] - 0s 875us/step - loss: 0.0452 - accuracy: 0.9842\n",
      "119/119 [==============================] - 0s 841us/step - loss: 0.0602 - accuracy: 0.9808\n",
      "20 percent noise-128-96-64...\n",
      "356/356 [==============================] - 0s 906us/step - loss: 0.0210 - accuracy: 0.9960\n",
      "119/119 [==============================] - 0s 926us/step - loss: 0.0461 - accuracy: 0.9860\n",
      "119/119 [==============================] - 0s 905us/step - loss: 0.0640 - accuracy: 0.9826\n",
      "20 percent noise-256-128-96...\n",
      "356/356 [==============================] - 0s 940us/step - loss: 0.0489 - accuracy: 0.9854\n",
      "119/119 [==============================] - 0s 959us/step - loss: 0.0641 - accuracy: 0.9794\n",
      "119/119 [==============================] - 0s 951us/step - loss: 0.0800 - accuracy: 0.9752\n"
     ]
    }
   ],
   "source": [
    "# for reduced_dimension in [256]:\n",
    "#     reduced_rep_train = get_reduced_representation(reduced_dimension, train_vectors)\n",
    "#     reduced_rep_val = get_reduced_representation(reduced_dimension, val_vectors)\n",
    "#     reduced_rep_test = get_reduced_representation(reduced_dimension, test_vectors)\n",
    "#     for layer_dims in model_arch:\n",
    "#         print(f'{reduced_dimension}-{layer_dims[0]}-{layer_dims[1]}-{layer_dims[2]}...')\n",
    "#         temp_model = tf.keras.models.load_model(\n",
    "#             f'models/Q1/{reduced_dimension}-{layer_dims[0]}-{layer_dims[1]}-{layer_dims[2]}.tf')\n",
    "#         l, acc = temp_model.evaluate(reduced_rep_train.numpy(), train_vectors[1].numpy())\n",
    "#         l, acc = temp_model.evaluate(reduced_rep_val.numpy(), val_vectors[1].numpy())\n",
    "#         l, acc = temp_model.evaluate(reduced_rep_test.numpy(), test_vectors[1].numpy())\n",
    "#         print('\\n\\n')\n",
    "        \n",
    "model_arch = [\n",
    "    [96, 64, 32],\n",
    "    [64, 96, 128],\n",
    "    [128, 96, 64],\n",
    "    [256, 128, 96]\n",
    "]\n",
    "\n",
    "reduced_rep_train = get_reduced_representation(20, train_vectors)\n",
    "reduced_rep_val = get_reduced_representation(20, val_vectors)\n",
    "reduced_rep_test = get_reduced_representation(20, test_vectors)\n",
    "\n",
    "for layer_dims in model_arch:\n",
    "    print(f'20 percent noise-{layer_dims[0]}-{layer_dims[1]}-{layer_dims[2]}...')\n",
    "    temp_model = tf.keras.models.load_model(\n",
    "        f'models/Q5/classifier/20per-256-{layer_dims[0]}-{layer_dims[1]}-{layer_dims[2]}.tf')\n",
    "    l, acc = temp_model.evaluate(reduced_rep_train, train_vectors[1].numpy())\n",
    "    l, acc = temp_model.evaluate(reduced_rep_val, val_vectors[1].numpy())\n",
    "    l, acc = temp_model.evaluate(reduced_rep_test, test_vectors[1].numpy())"
   ]
  },
  {
   "cell_type": "markdown",
   "metadata": {},
   "source": [
    "##### 40 percent denoised reduced representation classification model"
   ]
  },
  {
   "cell_type": "code",
   "execution_count": 19,
   "metadata": {},
   "outputs": [
    {
     "name": "stdout",
     "output_type": "stream",
     "text": [
      "Training models with different architectures\n",
      "356/356 [==============================] - 0s 754us/step\n",
      "119/119 [==============================] - 0s 777us/step\n",
      "40 percent noise-96-64-32...\n",
      "epochs: 196, acc: 0.9830478429794312\n",
      "\n"
     ]
    },
    {
     "name": "stderr",
     "output_type": "stream",
     "text": [
      "WARNING:absl:Found untraced functions such as _update_step_xla while saving (showing 1 of 1). These functions will not be directly callable after loading.\n"
     ]
    },
    {
     "name": "stdout",
     "output_type": "stream",
     "text": [
      "40 percent noise-64-96-128...\n",
      "epochs: 199, acc: 0.992358386516571\n",
      "\n"
     ]
    },
    {
     "name": "stderr",
     "output_type": "stream",
     "text": [
      "WARNING:absl:Found untraced functions such as _update_step_xla while saving (showing 1 of 1). These functions will not be directly callable after loading.\n"
     ]
    },
    {
     "name": "stdout",
     "output_type": "stream",
     "text": [
      "40 percent noise-128-96-64...\n",
      "epochs: 182, acc: 0.9898111820220947\n",
      "\n"
     ]
    },
    {
     "name": "stderr",
     "output_type": "stream",
     "text": [
      "WARNING:absl:Found untraced functions such as _update_step_xla while saving (showing 1 of 1). These functions will not be directly callable after loading.\n"
     ]
    },
    {
     "name": "stdout",
     "output_type": "stream",
     "text": [
      "40 percent noise-256-128-96...\n",
      "epochs: 107, acc: 0.9768994450569153\n",
      "\n"
     ]
    },
    {
     "name": "stderr",
     "output_type": "stream",
     "text": [
      "WARNING:absl:Found untraced functions such as _update_step_xla while saving (showing 1 of 1). These functions will not be directly callable after loading.\n"
     ]
    }
   ],
   "source": [
    "model_arch = [\n",
    "    [96, 64, 32],\n",
    "    [64, 96, 128],\n",
    "    [128, 96, 64],\n",
    "    [256, 128, 96]\n",
    "]\n",
    "initializer = initializers.RandomNormal(mean=0.0, stddev=0.05, seed=42)\n",
    "\n",
    "k=5 # no. of classes\n",
    "model_history = dict()\n",
    "\n",
    "# train different achitectures and optimizers\n",
    "print('Training models with different architectures')\n",
    "reduced_rep_train = get_reduced_representation(40, train_vectors)\n",
    "reduced_rep_val = get_reduced_representation(40, val_vectors)\n",
    "for layer_dims in model_arch:\n",
    "    print(f'40 percent noise-{layer_dims[0]}-{layer_dims[1]}-{layer_dims[2]}...')\n",
    "    # define model\n",
    "    model = Sequential([\n",
    "        layers.Dense(256, activation=\"relu\", input_shape=(256,)),\n",
    "        # keras.Input(input_shape=(reduced_dimension,)),\n",
    "        layers.Dense(layer_dims[0], activation=\"tanh\", name=\"layer1\", \n",
    "                        kernel_initializer=initializer, bias_initializer=initializers.Zeros()),\n",
    "        layers.Dense(layer_dims[1], activation=\"tanh\", name=\"layer2\", \n",
    "                        kernel_initializer=initializer, bias_initializer=initializers.Zeros()),\n",
    "        layers.Dense(layer_dims[2], activation=\"tanh\", name=\"layer3\", \n",
    "                        kernel_initializer=initializer, bias_initializer=initializers.Zeros()),\n",
    "        # layers.Dense(layer_dims[3], activation=\"sigmoid\", name=\"layer4\", \n",
    "        #              kernel_initializer=initializer, bias_initializer=initializers.Zeros()),\n",
    "        layers.Dense(k, activation=\"softmax\", name=\"output\", \n",
    "                        kernel_initializer=initializer, bias_initializer=initializers.Zeros()),\n",
    "    ])\n",
    "    \n",
    "    # compile model\n",
    "    adam_optimizer = Adam(learning_rate=0.001, beta_1=0.9, beta_2=0.999, epsilon=1e-8)\n",
    "    model.compile(optimizer=adam_optimizer, loss='sparse_categorical_crossentropy', metrics=['accuracy'])\n",
    "    \n",
    "    # callbacks\n",
    "    my_callbacks = [\n",
    "        EarlyStopping(monitor='val_loss', min_delta=1e-4, patience=5),\n",
    "        TensorBoard(log_dir=f'./logdir/Q55/classifier/40per-256-{layer_dims[0]}-{layer_dims[1]}-{layer_dims[2]}/')\n",
    "    ]\n",
    "    model_fit = model.fit(reduced_rep_train, train_vectors[1].numpy(), batch_size=len(train_vectors[0]), epochs=10000, verbose=0, callbacks=my_callbacks, \n",
    "                            validation_split=0.0, validation_data=(reduced_rep_val, val_vectors[1].numpy()), shuffle=True, validation_batch_size=None)\n",
    "    \n",
    "    hist_metric = 'accuracy'\n",
    "    print(f'epochs: {len(model_fit.history[hist_metric])}, acc: {model_fit.history[hist_metric][-1]}\\n')\n",
    "    model.save(f'models/Q55/classifier/40per-256-{layer_dims[0]}-{layer_dims[1]}-{layer_dims[2]}.tf')\n",
    "\n"
   ]
  },
  {
   "cell_type": "code",
   "execution_count": 22,
   "metadata": {},
   "outputs": [
    {
     "name": "stdout",
     "output_type": "stream",
     "text": [
      "356/356 [==============================] - 0s 1ms/step\n",
      "119/119 [==============================] - 0s 981us/step\n",
      "119/119 [==============================] - 0s 1ms/step\n",
      "20 percent noise-96-64-32...\n",
      "356/356 [==============================] - 0s 897us/step - loss: 0.0673 - accuracy: 0.9885\n",
      "119/119 [==============================] - 0s 914us/step - loss: 0.0953 - accuracy: 0.9784\n",
      "119/119 [==============================] - 0s 930us/step - loss: 0.1022 - accuracy: 0.9765\n",
      "20 percent noise-64-96-128...\n",
      "356/356 [==============================] - 0s 842us/step - loss: 0.0291 - accuracy: 0.9910\n",
      "119/119 [==============================] - 0s 882us/step - loss: 0.0580 - accuracy: 0.9813\n",
      "119/119 [==============================] - 0s 862us/step - loss: 0.0682 - accuracy: 0.9789\n",
      "20 percent noise-128-96-64...\n",
      "356/356 [==============================] - 0s 1ms/step - loss: 0.0436 - accuracy: 0.9875\n",
      "119/119 [==============================] - 0s 1ms/step - loss: 0.0688 - accuracy: 0.9794\n",
      "119/119 [==============================] - 0s 970us/step - loss: 0.0779 - accuracy: 0.9781\n",
      "20 percent noise-256-128-96...\n",
      "356/356 [==============================] - 0s 1ms/step - loss: 0.0694 - accuracy: 0.9763\n",
      "119/119 [==============================] - 0s 1ms/step - loss: 0.0894 - accuracy: 0.9729\n",
      "119/119 [==============================] - 0s 1ms/step - loss: 0.0973 - accuracy: 0.9713\n"
     ]
    }
   ],
   "source": [
    "model_arch = [\n",
    "    [96, 64, 32],\n",
    "    [64, 96, 128],\n",
    "    [128, 96, 64],\n",
    "    [256, 128, 96]\n",
    "]\n",
    "\n",
    "reduced_rep_train = get_reduced_representation(40, train_vectors)\n",
    "reduced_rep_val = get_reduced_representation(40, val_vectors)\n",
    "reduced_rep_test = get_reduced_representation(40, test_vectors)\n",
    "\n",
    "for layer_dims in model_arch:\n",
    "    print(f'20 percent noise-{layer_dims[0]}-{layer_dims[1]}-{layer_dims[2]}...')\n",
    "    temp_model = tf.keras.models.load_model(\n",
    "        f'models/Q55/classifier/40per-256-{layer_dims[0]}-{layer_dims[1]}-{layer_dims[2]}.tf')\n",
    "    l, acc = temp_model.evaluate(reduced_rep_train, train_vectors[1].numpy())\n",
    "    l, acc = temp_model.evaluate(reduced_rep_val, val_vectors[1].numpy())\n",
    "    l, acc = temp_model.evaluate(reduced_rep_test, test_vectors[1].numpy())"
   ]
  },
  {
   "cell_type": "code",
   "execution_count": null,
   "metadata": {},
   "outputs": [],
   "source": []
  }
 ],
 "metadata": {
  "kernelspec": {
   "display_name": "Python 3",
   "language": "python",
   "name": "python3"
  },
  "language_info": {
   "codemirror_mode": {
    "name": "ipython",
    "version": 3
   },
   "file_extension": ".py",
   "mimetype": "text/x-python",
   "name": "python",
   "nbconvert_exporter": "python",
   "pygments_lexer": "ipython3",
   "version": "3.10.1"
  },
  "vscode": {
   "interpreter": {
    "hash": "916dbcbb3f70747c44a77c7bcd40155683ae19c65e1c03b4aa3499c5328201f1"
   }
  }
 },
 "nbformat": 4,
 "nbformat_minor": 2
}
